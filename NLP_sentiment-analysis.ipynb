{
 "cells": [
  {
   "cell_type": "code",
   "execution_count": 21,
   "metadata": {},
   "outputs": [],
   "source": [
    "import os\n",
    "import pandas as pd\n",
    "import nltk\n",
    "from nltk.corpus import stopwords\n",
    "from nltk.tokenize import word_tokenize\n",
    "from nltk.stem import PorterStemmer\n",
    "import numpy as np\n",
    "from sklearn.metrics import plot_confusion_matrix\n",
    "from sklearn.metrics import confusion_matrix\n",
    "from sklearn.metrics import plot_roc_curve\n",
    "import re\n",
    "import matplotlib.pyplot as plt\n",
    "import sklearn  as sk"
   ]
  },
  {
   "cell_type": "code",
   "execution_count": 2,
   "metadata": {},
   "outputs": [
    {
     "name": "stdout",
     "output_type": "stream",
     "text": [
      "/Users/Guillaume/Desktop/RemiseNiveau/sentiment_analysis\n"
     ]
    }
   ],
   "source": [
    "path = os.getcwd()\n",
    "print(path)"
   ]
  },
  {
   "cell_type": "code",
   "execution_count": 4,
   "metadata": {},
   "outputs": [],
   "source": [
    "path_data = path + '/' + 'train_E6oV3lV.csv'\n",
    "data = pd.read_csv(path_data)"
   ]
  },
  {
   "cell_type": "code",
   "execution_count": 5,
   "metadata": {},
   "outputs": [
    {
     "data": {
      "text/html": [
       "<div>\n",
       "<style scoped>\n",
       "    .dataframe tbody tr th:only-of-type {\n",
       "        vertical-align: middle;\n",
       "    }\n",
       "\n",
       "    .dataframe tbody tr th {\n",
       "        vertical-align: top;\n",
       "    }\n",
       "\n",
       "    .dataframe thead th {\n",
       "        text-align: right;\n",
       "    }\n",
       "</style>\n",
       "<table border=\"1\" class=\"dataframe\">\n",
       "  <thead>\n",
       "    <tr style=\"text-align: right;\">\n",
       "      <th></th>\n",
       "      <th>id</th>\n",
       "      <th>label</th>\n",
       "      <th>tweet</th>\n",
       "    </tr>\n",
       "  </thead>\n",
       "  <tbody>\n",
       "    <tr>\n",
       "      <td>0</td>\n",
       "      <td>1</td>\n",
       "      <td>0</td>\n",
       "      <td>@user when a father is dysfunctional and is s...</td>\n",
       "    </tr>\n",
       "    <tr>\n",
       "      <td>1</td>\n",
       "      <td>2</td>\n",
       "      <td>0</td>\n",
       "      <td>@user @user thanks for #lyft credit i can't us...</td>\n",
       "    </tr>\n",
       "    <tr>\n",
       "      <td>2</td>\n",
       "      <td>3</td>\n",
       "      <td>0</td>\n",
       "      <td>bihday your majesty</td>\n",
       "    </tr>\n",
       "    <tr>\n",
       "      <td>3</td>\n",
       "      <td>4</td>\n",
       "      <td>0</td>\n",
       "      <td>#model   i love u take with u all the time in ...</td>\n",
       "    </tr>\n",
       "    <tr>\n",
       "      <td>4</td>\n",
       "      <td>5</td>\n",
       "      <td>0</td>\n",
       "      <td>factsguide: society now    #motivation</td>\n",
       "    </tr>\n",
       "  </tbody>\n",
       "</table>\n",
       "</div>"
      ],
      "text/plain": [
       "   id  label                                              tweet\n",
       "0   1      0   @user when a father is dysfunctional and is s...\n",
       "1   2      0  @user @user thanks for #lyft credit i can't us...\n",
       "2   3      0                                bihday your majesty\n",
       "3   4      0  #model   i love u take with u all the time in ...\n",
       "4   5      0             factsguide: society now    #motivation"
      ]
     },
     "execution_count": 5,
     "metadata": {},
     "output_type": "execute_result"
    }
   ],
   "source": [
    "data.head()"
   ]
  },
  {
   "cell_type": "code",
   "execution_count": 6,
   "metadata": {},
   "outputs": [
    {
     "data": {
      "text/plain": [
       "Text(0.5, 0, 'Class')"
      ]
     },
     "execution_count": 6,
     "metadata": {},
     "output_type": "execute_result"
    },
    {
     "data": {
      "image/png": "[encoded data removed]",
      "text/plain": [
       "<Figure size 432x288 with 1 Axes>"
      ]
     },
     "metadata": {
      "needs_background": "light"
     },
     "output_type": "display_data"
    }
   ],
   "source": [
    "data[\"label\"].value_counts(normalize=True).plot(kind=\"bar\")\n",
    "plt.title(\"Class Distribution in the Dataset\")\n",
    "plt.xlabel(\"Class\")"
   ]
  },
  {
   "cell_type": "markdown",
   "metadata": {},
   "source": [
    "Split randomly the dataset into a training and test sets"
   ]
  },
  {
   "cell_type": "code",
   "execution_count": 7,
   "metadata": {},
   "outputs": [],
   "source": [
    "from sklearn.model_selection import train_test_split\n",
    "X_train, X_test, y_train, y_test = train_test_split(data[\"tweet\"], data[\"label\"], test_size=0.33, random_state=42)"
   ]
  },
  {
   "cell_type": "markdown",
   "metadata": {},
   "source": [
    "## Text processing with nltk and re"
   ]
  },
  {
   "cell_type": "markdown",
   "metadata": {},
   "source": [
    "Processing relies on four main steps:\n",
    "\n",
    "*   Lower\n",
    "*   Remove Punctuations and Stopwords\n",
    "- Stemming\n",
    "- Tokenization"
   ]
  },
  {
   "cell_type": "code",
   "execution_count": 8,
   "metadata": {},
   "outputs": [
    {
     "name": "stderr",
     "output_type": "stream",
     "text": [
      "[nltk_data] Downloading package stopwords to\n",
      "[nltk_data]     /Users/Guillaume/nltk_data...\n",
      "[nltk_data]   Package stopwords is already up-to-date!\n"
     ]
    },
    {
     "name": "stdout",
     "output_type": "stream",
     "text": [
      "['i', 'me', 'my', 'myself', 'we', 'our', 'ours', 'ourselves', 'you', \"you're\", \"you've\", \"you'll\", \"you'd\", 'your', 'yours', 'yourself', 'yourselves', 'he', 'him', 'his', 'himself', 'she', \"she's\", 'her', 'hers', 'herself', 'it', \"it's\", 'its', 'itself', 'they', 'them', 'their', 'theirs', 'themselves', 'what', 'which', 'who', 'whom', 'this', 'that', \"that'll\", 'these', 'those', 'am', 'is', 'are', 'was', 'were', 'be', 'been', 'being', 'have', 'has', 'had', 'having', 'do', 'does', 'did', 'doing', 'a', 'an', 'the', 'and', 'but', 'if', 'or', 'because', 'as', 'until', 'while', 'of', 'at', 'by', 'for', 'with', 'about', 'against', 'between', 'into', 'through', 'during', 'before', 'after', 'above', 'below', 'to', 'from', 'up', 'down', 'in', 'out', 'on', 'off', 'over', 'under', 'again', 'further', 'then', 'once', 'here', 'there', 'when', 'where', 'why', 'how', 'all', 'any', 'both', 'each', 'few', 'more', 'most', 'other', 'some', 'such', 'no', 'nor', 'not', 'only', 'own', 'same', 'so', 'than', 'too', 'very', 's', 't', 'can', 'will', 'just', 'don', \"don't\", 'should', \"should've\", 'now', 'd', 'll', 'm', 'o', 're', 've', 'y', 'ain', 'aren', \"aren't\", 'couldn', \"couldn't\", 'didn', \"didn't\", 'doesn', \"doesn't\", 'hadn', \"hadn't\", 'hasn', \"hasn't\", 'haven', \"haven't\", 'isn', \"isn't\", 'ma', 'mightn', \"mightn't\", 'mustn', \"mustn't\", 'needn', \"needn't\", 'shan', \"shan't\", 'shouldn', \"shouldn't\", 'wasn', \"wasn't\", 'weren', \"weren't\", 'won', \"won't\", 'wouldn', \"wouldn't\"]\n"
     ]
    }
   ],
   "source": [
    "nltk.download(\"stopwords\")\n",
    "stopwords_list = stopwords.words(\"english\")\n",
    "print(stopwords_list)"
   ]
  },
  {
   "cell_type": "code",
   "execution_count": 9,
   "metadata": {},
   "outputs": [],
   "source": [
    "def process_tweet(tweet, stopwords_list):\n",
    "    '''\n",
    "      This function processes a tweet to make it understable for modeling.\n",
    "      Input:\n",
    "        tweet: a sentence as strings\n",
    "        stopword_list : list of stopwords\n",
    "    '''\n",
    "  # Lowercase\n",
    "    tweet = tweet.lower()\n",
    "  #Remove tags, hastags and internet links\n",
    "    tweet = re.sub(r\"#(\\w+)\", '', tweet, flags=re.MULTILINE)\n",
    "    tweet = re.sub(r\"@(\\w+)\", '', tweet, flags=re.MULTILINE)\n",
    "    tweet = re.sub(r\"https(\\w+)\", '', tweet, flags=re.MULTILINE)\n",
    "    tweet = re.sub(r\"http(\\w+)\", '', tweet, flags=re.MULTILINE)\n",
    "\n",
    "  #Remove punctuation\n",
    "    tweet = re.sub(r\"[^\\w\\s]\", '', tweet)\n",
    "  #Remove empty space\n",
    "    tweet = re.sub(\" +\", \" \", tweet)\n",
    "\n",
    "  # Tokenize and remove stopwords\n",
    "    tweet = tweet.split()\n",
    "    tweet = [word for word in tweet if not word in stopwords_list]\n",
    "\n",
    "  # Stemming\n",
    "    ps = PorterStemmer()\n",
    "    tweet = [ps.stem(word) for word in tweet]\n",
    "\n",
    "    return tweet"
   ]
  },
  {
   "cell_type": "code",
   "execution_count": 10,
   "metadata": {},
   "outputs": [
    {
     "name": "stdout",
     "output_type": "stream",
     "text": [
      "Original Tweet:   @user when a father is dysfunctional and is so selfish he drags his kids into his dysfunction.   #run\n",
      "Processed Tweet:  ['father', 'dysfunct', 'selfish', 'drag', 'kid', 'dysfunct']\n"
     ]
    }
   ],
   "source": [
    "tweet_test = X_train[0]\n",
    "print(\"Original Tweet: \", tweet_test)\n",
    "tweet_process = process_tweet(tweet_test, stopwords_list)\n",
    "print(\"Processed Tweet: \", tweet_process)"
   ]
  },
  {
   "cell_type": "code",
   "execution_count": 11,
   "metadata": {},
   "outputs": [],
   "source": [
    "def build_freqs(x, y, stopwords_list):\n",
    "    '''\n",
    "      Build a dictionnary of which keys are tuple (word, label) and the corresponding values refer to \n",
    "      the count in all documents.\n",
    "      Input:\n",
    "        x : list of sentences\n",
    "        y : list of labels\n",
    "        stopwords_list : list of stopwords\n",
    "      '''\n",
    "    freqs = dict()\n",
    "    for tweet, label in zip(x, y):\n",
    "        for word in process_tweet(tweet, stopwords_list):\n",
    "            pair = (word, label)\n",
    "            freqs[pair] = freqs.get(pair, 0) + 1\n",
    "    return freqs"
   ]
  },
  {
   "cell_type": "code",
   "execution_count": 12,
   "metadata": {},
   "outputs": [],
   "source": [
    "freqs = build_freqs(X_train, y_train, stopwords_list)"
   ]
  },
  {
   "cell_type": "code",
   "execution_count": 13,
   "metadata": {},
   "outputs": [
    {
     "name": "stdout",
     "output_type": "stream",
     "text": [
      "The size of vocabulary after processing is:  16686\n"
     ]
    }
   ],
   "source": [
    "V = len(set([pair[0] for pair in freqs.keys()]))\n",
    "print(\"The size of vocabulary after processing is: \", V)"
   ]
  },
  {
   "cell_type": "code",
   "execution_count": 14,
   "metadata": {},
   "outputs": [],
   "source": [
    "def build_vector_tweet(dict_freq, train_x, stopwords_list):\n",
    "    '''\n",
    "      Build for each tweet a vector understandable for logistic regression model\n",
    "      Input: \n",
    "        dict_freq: dictionnary of frequencies from the functionbuild_freqs\n",
    "        train_x: list of sentences\n",
    "        stopwords_list: list of stopwords\n",
    "      '''\n",
    "    result = []\n",
    "    for tweet in train_x:\n",
    "        tweet = process_tweet(tweet, stopwords_list)\n",
    "        freq_pos = 0\n",
    "        frq_neg = 0\n",
    "        for word in tweet:\n",
    "            freq_pos =+ dict_freq.get((word,0), 0)\n",
    "            freq_neg =+ dict_freq.get((word,1), 0)\n",
    "    \n",
    "        result.append([1, freq_pos, freq_neg])\n",
    "    return result"
   ]
  },
  {
   "cell_type": "markdown",
   "metadata": {},
   "source": [
    "## Training of Logistic Regression"
   ]
  },
  {
   "cell_type": "code",
   "execution_count": 15,
   "metadata": {},
   "outputs": [],
   "source": [
    "train_x_lr = build_vector_tweet(freqs, X_train, stopwords_list)\n",
    "train_x_lr = np.array(train_x_lr)\n",
    "train_y_lr = np.array(y_train)"
   ]
  },
  {
   "cell_type": "code",
   "execution_count": 16,
   "metadata": {},
   "outputs": [],
   "source": [
    "lr = sk.linear_model.LogisticRegression(penalty='l2', fit_intercept=False)"
   ]
  },
  {
   "cell_type": "code",
   "execution_count": 17,
   "metadata": {},
   "outputs": [
    {
     "data": {
      "text/plain": [
       "LogisticRegression(fit_intercept=False)"
      ]
     },
     "execution_count": 17,
     "metadata": {},
     "output_type": "execute_result"
    }
   ],
   "source": [
    "lr.fit(train_x_lr, train_y_lr)"
   ]
  },
  {
   "cell_type": "code",
   "execution_count": 18,
   "metadata": {},
   "outputs": [
    {
     "name": "stdout",
     "output_type": "stream",
     "text": [
      "Accuracy of the model is:  0.93\n"
     ]
    }
   ],
   "source": [
    "y_hat_train = lr.predict(train_x_lr)\n",
    "score = np.mean(y_hat_train==train_y_lr)\n",
    "print(\"Accuracy of the model is: \", round(score,2))"
   ]
  },
  {
   "cell_type": "code",
   "execution_count": 19,
   "metadata": {},
   "outputs": [
    {
     "data": {
      "text/plain": [
       "<sklearn.metrics._plot.confusion_matrix.ConfusionMatrixDisplay at 0x1a1e3916d0>"
      ]
     },
     "execution_count": 19,
     "metadata": {},
     "output_type": "execute_result"
    },
    {
     "data": {
      "image/png": "[encoded data removed]",
      "text/plain": [
       "<Figure size 432x288 with 2 Axes>"
      ]
     },
     "metadata": {
      "needs_background": "light"
     },
     "output_type": "display_data"
    }
   ],
   "source": [
    "from sklearn.metrics import plot_confusion_matrix\n",
    "plot_confusion_matrix(lr, train_x_lr, train_y_lr,\n",
    "                                 cmap=plt.cm.Blues)"
   ]
  },
  {
   "cell_type": "code",
   "execution_count": 20,
   "metadata": {},
   "outputs": [
    {
     "data": {
      "text/plain": [
       "<sklearn.metrics._plot.roc_curve.RocCurveDisplay at 0x1a1f384a50>"
      ]
     },
     "execution_count": 20,
     "metadata": {},
     "output_type": "execute_result"
    },
    {
     "data": {
      "image/png": "[encoded data removed]",
      "text/plain": [
       "<Figure size 432x288 with 1 Axes>"
      ]
     },
     "metadata": {
      "needs_background": "light"
     },
     "output_type": "display_data"
    }
   ],
   "source": [
    "plot_roc_curve(lr, train_x_lr, train_y_lr)"
   ]
  },
  {
   "cell_type": "markdown",
   "metadata": {},
   "source": [
    "## Find Optimal Point of ROC Curve (Cut-off point)"
   ]
  },
  {
   "cell_type": "code",
   "execution_count": 73,
   "metadata": {},
   "outputs": [],
   "source": [
    "def compute_tpr_fpr(model, x, y, threshold):\n",
    "    '''\n",
    "    Compute TPR and FPR for a given threshold. This threshold is the decision function. \n",
    "    If the probability to be an hate speech is superior to this threshold, then the tweet is classified as an hate speech.\n",
    "    \n",
    "    Input:\n",
    "        model : a trained binary classifier\n",
    "        x : sample of tweets\n",
    "        y : true labels\n",
    "        threshold : a float\n",
    "    '''\n",
    "    y_hat = lr.predict_proba(x)\n",
    "    y_hat = y_hat[:,1] > threshold\n",
    "    y_hat_2 = np.zeros(y_hat.shape)\n",
    "    for i in range(y_hat.shape[0]):\n",
    "        if y_hat[i]==True:\n",
    "            y_hat_2[i] = 1\n",
    "        else:\n",
    "            y_hat_2[i] = 0\n",
    "\n",
    "    mat_ = confusion_matrix(y, y_hat_2)\n",
    "    \n",
    "    TPR = mat_[1,1]/(mat_[1,1]+mat_[1,0])\n",
    "    FPR = mat_[0,1]/(mat_[0,1]+mat_[0,0])\n",
    "    ACC = np.mean(y_hat_2==y)\n",
    "    \n",
    "    return [threshold, TPR, FPR, ACC]\n",
    "    "
   ]
  },
  {
   "cell_type": "code",
   "execution_count": 76,
   "metadata": {},
   "outputs": [],
   "source": [
    "roc_curve = []\n",
    "cut = 0\n",
    "for i in range(1000):\n",
    "    cut =+ i*1/1000\n",
    "    tmp = compute_tpr_fpr(lr, train_x_lr, train_y_lr, cut)\n",
    "    roc_curve.append(tmp)"
   ]
  },
  {
   "cell_type": "code",
   "execution_count": 96,
   "metadata": {},
   "outputs": [
    {
     "data": {
      "text/plain": [
       "dict_values([11, 109, 8, 15, 2, 57, 88, 12, 25, 12, 48, 721, 770, 36, 101, 106, 237, 60, 1, 48, 209, 365, 515, 429, 273, 1069, 41, 12, 2, 1638, 16, 60, 278, 342, 5, 1, 51, 26, 1, 74, 13, 1022, 1, 45, 205, 69, 15, 56, 545, 54, 63, 41, 597, 14, 165, 174, 209, 31, 3, 2, 28, 20, 290, 139, 269, 168, 182, 40, 95, 28, 135, 39, 14, 1, 4, 34, 2, 756, 487, 775, 217, 337, 512, 61, 866, 142, 13, 517, 249, 1, 3, 87, 33, 262, 117, 1, 382, 99, 59, 14, 131, 204, 11, 63, 1, 33, 5, 43, 3, 30, 6, 27, 17, 13, 1, 5, 2, 4, 12, 13, 8, 34, 9, 29, 315, 5, 6, 4, 44, 178, 64, 105, 3, 542, 614, 4, 17, 5, 18, 486, 321, 34, 159, 78, 35, 75, 27, 37, 88, 6, 46, 1, 79, 142, 39, 202, 344, 13, 131, 121, 21, 134, 15, 123, 52, 126, 1645, 29, 2, 314, 199, 18, 668, 517, 10, 1159, 34, 12, 34, 13, 19, 1, 9, 26, 1, 41, 117, 1, 4, 115, 33, 5, 6, 108, 21, 63, 9, 3, 21, 1, 17, 14, 27, 10, 39, 6, 16, 3, 15, 476, 67, 48, 56, 1, 2, 2, 5, 1, 2, 5, 1, 10, 1, 15, 4, 39, 29, 126, 311, 24, 652, 419, 165, 12, 19, 14, 33, 1, 1, 20, 1, 7, 19, 3, 2, 2, 2, 36, 173, 35, 25, 13, 1, 4, 287, 235, 3, 11, 3, 81, 38, 1, 42, 3, 224, 3, 315, 11, 85, 93, 29, 150, 235, 68, 10, 87, 18, 45, 185, 33, 69, 17, 8, 140, 94, 169, 297, 17, 47, 141, 58, 31, 2, 1, 1, 2, 16, 36, 17, 15, 59, 30, 188, 25, 21, 135, 240, 59, 102, 16, 287, 28, 4, 71, 2, 84, 104, 10, 35, 22, 395, 1, 8, 117, 12, 53, 3, 1, 1, 1, 2, 2, 6, 71, 106, 117, 210, 1, 96, 1, 705, 4, 118, 10, 32, 39, 573, 15, 9, 1, 27, 5, 1, 1, 35, 6, 12, 53, 24, 9, 67, 85, 1, 13, 129, 2, 118, 480, 167, 48, 2, 49, 3, 20, 13, 89, 21, 28, 221, 98, 1, 15, 91, 492, 1, 6, 9, 9, 3, 40, 144, 1, 8, 79, 392, 71, 74, 103, 29, 1, 205, 428, 98, 1, 50, 453, 67, 3, 1, 1, 95, 12, 23, 3, 83, 19, 36, 15, 64, 1, 41, 100, 320, 37, 1, 142, 225, 51, 1, 1, 1, 5, 1, 81, 229, 20, 412, 111, 134, 67, 5, 291, 1, 21, 141, 2, 4, 5, 139, 1, 155, 285, 1, 7, 37, 2, 119, 3, 3, 61, 160, 110, 10, 16, 6, 1, 15, 25, 1, 5, 40, 15, 73, 79, 29, 5, 5, 24, 5, 5, 236, 29, 1, 10, 48, 159, 23, 16, 1, 1, 8, 14, 10, 6, 16, 3, 2, 2, 2, 6, 30, 36, 25, 284, 1, 93, 18, 7, 2, 3, 58, 1, 31, 32, 6, 4, 1, 2, 3, 1, 12, 8, 3, 4, 6, 2, 1, 2, 28, 106, 16, 1, 1, 1, 25, 1, 191, 26, 8, 53, 21, 5, 63, 1, 31, 70, 4, 255, 2, 6, 6, 51, 6, 123, 93, 100, 25, 89, 7, 114, 19, 55, 36, 161, 25, 55, 19, 85, 1, 22, 1, 105, 8, 19, 9, 7, 138, 66, 3, 1, 150, 252, 15, 229, 52, 47, 60, 11, 16, 2, 1, 76, 194, 27, 39, 35, 1, 19, 24, 12, 1, 1, 12, 10, 78, 3, 1, 5, 10, 23, 8, 1, 4, 6, 18, 3, 1, 15, 33, 12, 10, 3, 1, 26, 160, 6, 53, 4, 38, 111, 122, 144, 10, 22, 105, 13, 77, 1, 1, 4, 29, 55, 104, 5, 18, 40, 1, 10, 10, 92, 65, 2, 12, 95, 8, 17, 53, 70, 16, 7, 72, 2, 122, 85, 2, 1, 101, 27, 5, 101, 1, 19, 38, 27, 24, 6, 1, 1, 71, 61, 3, 8, 26, 27, 63, 1, 6, 1, 123, 46, 1, 2, 13, 5, 20, 3, 68, 1, 3, 3, 116, 55, 156, 85, 177, 229, 5, 1, 2, 2, 3, 1, 32, 160, 2, 68, 16, 36, 5, 56, 1, 3, 12, 13, 49, 23, 4, 1, 13, 80, 109, 1, 62, 115, 12, 2, 36, 2, 1, 2, 4, 34, 2, 1, 2, 4, 2, 1, 4, 18, 18, 155, 1, 103, 6, 70, 174, 77, 10, 39, 23, 3, 43, 50, 18, 57, 9, 163, 27, 3, 1, 1, 4, 4, 29, 1, 3, 31, 50, 48, 67, 3, 56, 3, 86, 10, 1, 2, 2, 30, 34, 5, 2, 4, 3, 1, 9, 30, 28, 27, 3, 5, 36, 124, 46, 16, 5, 1, 5, 47, 6, 175, 10, 2, 92, 45, 2, 151, 9, 5, 1, 100, 20, 18, 57, 22, 5, 2, 39, 57, 14, 7, 2, 12, 7, 2, 5, 2, 3, 2, 10, 1, 1, 10, 1, 5, 13, 2, 74, 54, 5, 30, 59, 5, 7, 15, 1, 37, 55, 1, 41, 14, 1, 13, 13, 1, 1, 7, 26, 35, 32, 69, 11, 2, 1, 4, 22, 1, 2, 5, 1, 27, 2, 4, 40, 1, 2, 21, 15, 2, 83, 2, 13, 1, 1, 11, 3, 9, 19, 1, 54, 55, 107, 96, 12, 29, 2, 3, 11, 55, 11, 21, 16, 47, 15, 13, 11, 2, 17, 3, 1, 13, 8, 19, 100, 7, 4, 30, 51, 42, 36, 2, 1, 1, 25, 7, 1, 3, 32, 36, 43, 6, 5, 3, 11, 68, 81, 37, 3, 1, 1, 117, 47, 107, 41, 76, 2, 22, 30, 1, 39, 1, 153, 58, 8, 10, 22, 1, 2, 1, 8, 2, 6, 35, 18, 20, 23, 45, 52, 4, 41, 115, 14, 68, 11, 1, 12, 5, 3, 1, 18, 215, 1, 11, 14, 52, 11, 13, 4, 8, 6, 6, 2, 58, 1, 5, 1, 10, 42, 27, 8, 1, 13, 3, 5, 2, 10, 8, 1, 1, 1, 14, 11, 9, 71, 8, 5, 92, 31, 11, 54, 129, 3, 7, 1, 11, 1, 113, 37, 23, 9, 53, 45, 97, 7, 1, 1, 1, 5, 1, 1, 1, 1, 24, 1, 5, 4, 69, 81, 6, 117, 1, 36, 3, 73, 1, 1, 5, 3, 1, 55, 2, 94, 42, 4, 1, 65, 1, 90, 1, 86, 1, 2, 19, 1, 1, 10, 49, 3, 1, 30, 2, 19, 1, 50, 11, 120, 13, 13, 18, 65, 9, 25, 5, 15, 35, 1, 68, 1, 3, 2, 1, 9, 3, 8, 191, 2, 30, 31, 1, 8, 6, 6, 5, 26, 8, 3, 60, 1, 1, 28, 17, 11, 27, 27, 25, 1, 24, 59, 2, 4, 11, 2, 6, 2, 21, 1, 3, 18, 1, 11, 38, 140, 1, 14, 1, 20, 77, 2, 69, 145, 1, 31, 31, 3, 31, 1, 2, 18, 26, 1, 17, 3, 4, 52, 36, 7, 63, 1, 38, 4, 14, 9, 227, 17, 6, 12, 5, 20, 19, 6, 12, 4, 21, 4, 10, 3, 7, 15, 4, 8, 3, 9, 44, 4, 51, 46, 8, 1, 1, 14, 19, 26, 2, 11, 4, 1, 16, 19, 3, 19, 4, 11, 2, 5, 1, 11, 2, 17, 8, 1, 35, 4, 16, 1, 1, 1, 22, 64, 15, 31, 14, 3, 3, 1, 1, 1, 40, 8, 1, 21, 9, 47, 2, 11, 30, 27, 46, 21, 47, 4, 1, 20, 2, 1, 4, 1, 121, 29, 18, 43, 5, 15, 191, 53, 1, 14, 93, 1, 89, 25, 61, 17, 23, 2, 4, 1, 16, 30, 11, 9, 2, 1, 68, 6, 20, 2, 22, 7, 5, 6, 3, 2, 1, 1, 8, 4, 1, 11, 51, 14, 1, 39, 18, 1, 1, 1, 1, 40, 14, 2, 3, 4, 78, 1, 19, 18, 18, 2, 2, 5, 6, 5, 3, 27, 56, 1, 2, 50, 2, 1, 21, 1, 12, 47, 10, 9, 12, 10, 11, 4, 53, 3, 5, 32, 18, 2, 14, 19, 23, 1, 2, 1, 2, 1, 5, 13, 1, 143, 156, 3, 2, 7, 19, 13, 1, 8, 26, 3, 7, 2, 4, 2, 1, 1, 1, 1, 1, 1, 2, 1, 1, 3, 7, 40, 3, 4, 34, 1, 25, 23, 18, 5, 23, 13, 1, 1, 4, 1, 47, 20, 3, 13, 36, 11, 8, 5, 12, 8, 1, 1, 54, 1, 1, 1, 1, 3, 17, 1, 5, 1, 13, 6, 14, 1, 17, 26, 1, 1, 8, 21, 4, 14, 1, 27, 35, 65, 63, 1, 34, 1, 2, 26, 34, 19, 1, 2, 5, 2, 3, 2, 2, 49, 2, 38, 13, 2, 92, 4, 2, 2, 2, 7, 26, 42, 1, 3, 12, 3, 7, 7, 5, 1, 26, 17, 1, 76, 8, 1, 25, 25, 63, 18, 11, 122, 21, 2, 26, 3, 16, 91, 1, 5, 6, 1, 3, 42, 30, 41, 19, 6, 3, 49, 10, 6, 52, 20, 9, 21, 32, 33, 34, 15, 2, 1, 32, 53, 6, 5, 1, 2, 1, 1, 4, 1, 13, 8, 6, 100, 2, 1, 30, 5, 75, 12, 47, 56, 1, 2, 3, 27, 3, 3, 6, 4, 16, 9, 22, 1, 2, 55, 1, 1, 1, 4, 3, 3, 1, 3, 3, 1, 1, 24, 3, 34, 2, 23, 4, 16, 30, 90, 5, 27, 1, 12, 5, 11, 8, 6, 3, 2, 2, 57, 1, 4, 1, 24, 2, 35, 23, 1, 17, 1, 13, 27, 42, 16, 28, 3, 6, 13, 21, 2, 9, 3, 7, 12, 1, 9, 1, 4, 2, 19, 12, 79, 3, 2, 1, 2, 95, 11, 33, 1, 8, 26, 13, 8, 60, 46, 20, 10, 106, 10, 35, 1, 9, 1, 16, 3, 45, 1, 1, 1, 9, 8, 1, 1, 43, 4, 14, 47, 52, 51, 6, 14, 2, 28, 70, 2, 5, 3, 4, 9, 8, 4, 58, 32, 23, 2, 52, 12, 29, 12, 1, 14, 2, 12, 1, 24, 4, 1, 2, 3, 15, 43, 7, 2, 9, 1, 22, 2, 42, 1, 2, 4, 18, 2, 5, 6, 9, 1, 5, 22, 11, 1, 30, 26, 12, 143, 6, 10, 20, 38, 20, 5, 11, 2, 2, 8, 3, 1, 1, 21, 4, 2, 8, 4, 3, 2, 1, 19, 14, 3, 1, 57, 1, 1, 23, 2, 4, 32, 45, 27, 1, 1, 12, 1, 48, 20, 28, 22, 29, 5, 43, 32, 11, 8, 61, 48, 10, 24, 123, 1, 5, 1, 52, 54, 4, 74, 18, 8, 5, 69, 11, 1, 2, 1, 4, 4, 1, 13, 14, 42, 9, 12, 6, 11, 1, 2, 4, 5, 55, 10, 1, 34, 23, 24, 15, 6, 4, 4, 23, 7, 6, 19, 16, 24, 27, 12, 1, 1, 27, 1, 37, 4, 51, 1, 1, 2, 2, 2, 1, 4, 2, 5, 10, 1, 3, 11, 12, 4, 1, 3, 6, 14, 19, 18, 8, 13, 1, 11, 1, 17, 31, 6, 36, 1, 4, 12, 1, 29, 5, 14, 10, 1, 7, 5, 2, 2, 9, 2, 2, 10, 19, 145, 10, 2, 5, 2, 1, 30, 2, 4, 5, 4, 1, 3, 2, 1, 1, 29, 16, 3, 9, 43, 39, 1, 1, 5, 52, 1, 93, 22, 1, 3, 1, 1, 7, 7, 1, 19, 6, 10, 5, 4, 44, 4, 53, 23, 36, 24, 1, 22, 13, 8, 2, 6, 5, 11, 1, 2, 3, 15, 1, 42, 18, 1, 24, 17, 11, 48, 2, 3, 4, 15, 92, 19, 1, 1, 70, 52, 6, 1, 40, 64, 5, 7, 21, 41, 49, 5, 32, 1, 1, 1, 3, 4, 2, 68, 22, 37, 1, 8, 2, 7, 29, 1, 8, 3, 21, 11, 3, 41, 5, 3, 2, 2, 16, 7, 2, 30, 5, 2, 3, 1, 3, 6, 6, 3, 1, 14, 1, 19, 4, 10, 27, 39, 13, 1, 2, 3, 1, 31, 12, 13, 2, 37, 1, 1, 1, 5, 10, 18, 1, 42, 1, 1, 1, 2, 7, 1, 1, 1, 11, 4, 1, 2, 1, 1, 6, 4, 37, 12, 26, 6, 3, 52, 8, 1, 27, 18, 8, 1, 1, 6, 2, 110, 43, 1, 3, 42, 2, 16, 9, 22, 26, 31, 7, 1, 1, 15, 3, 2, 2, 14, 3, 49, 39, 6, 1, 1, 10, 1, 6, 41, 1, 5, 22, 15, 1, 1, 1, 43, 1, 21, 1, 3, 7, 1, 4, 11, 22, 4, 2, 1, 15, 10, 48, 10, 27, 4, 9, 10, 2, 1, 1, 9, 2, 42, 1, 3, 3, 21, 11, 28, 2, 34, 8, 8, 1, 6, 1, 1, 1, 15, 24, 79, 25, 21, 1, 1, 21, 35, 1, 3, 3, 7, 12, 11, 1, 4, 21, 2, 2, 32, 9, 28, 3, 3, 12, 5, 3, 13, 1, 2, 1, 1, 3, 6, 10, 27, 1, 38, 3, 2, 1, 14, 22, 3, 3, 9, 5, 8, 24, 16, 1, 1, 1, 6, 1, 27, 38, 9, 2, 4, 22, 1, 1, 1, 25, 6, 41, 66, 4, 11, 11, 12, 1, 3, 1, 1, 13, 4, 1, 32, 1, 7, 20, 12, 7, 10, 47, 1, 1, 1, 5, 4, 9, 2, 11, 7, 1, 8, 1, 7, 30, 1, 3, 7, 8, 7, 1, 46, 1, 1, 5, 19, 1, 16, 2, 1, 9, 29, 2, 3, 27, 20, 1, 11, 33, 3, 23, 38, 5, 1, 34, 5, 1, 1, 1, 46, 44, 10, 3, 16, 2, 1, 22, 1, 31, 5, 2, 5, 17, 4, 1, 2, 14, 3, 11, 1, 16, 6, 9, 28, 10, 25, 25, 7, 2, 43, 60, 8, 4, 23, 1, 2, 3, 3, 3, 1, 1, 11, 4, 5, 47, 59, 1, 5, 3, 1, 1, 9, 13, 1, 11, 57, 1, 1, 10, 13, 3, 24, 2, 1, 1, 13, 1, 5, 1, 22, 79, 4, 3, 4, 6, 1, 40, 1, 67, 4, 14, 1, 1, 2, 1, 23, 8, 10, 1, 4, 2, 18, 26, 6, 13, 2, 1, 34, 3, 2, 2, 3, 13, 26, 12, 25, 1, 2, 3, 9, 10, 2, 1, 19, 2, 6, 1, 1, 2, 7, 10, 23, 27, 5, 1, 4, 6, 24, 25, 12, 1, 4, 16, 11, 7, 22, 1, 2, 49, 9, 9, 10, 5, 1, 14, 5, 12, 19, 1, 1, 1, 1, 9, 1, 1, 1, 1, 6, 11, 1, 1, 4, 1, 8, 37, 15, 3, 4, 11, 13, 2, 9, 1, 4, 16, 28, 2, 1, 10, 1, 18, 29, 1, 2, 1, 8, 38, 13, 3, 1, 13, 8, 2, 30, 11, 2, 1, 3, 6, 1, 7, 9, 2, 1, 1, 1, 1, 30, 12, 9, 4, 1, 2, 4, 41, 2, 1, 6, 1, 1, 9, 2, 12, 6, 2, 13, 2, 3, 1, 2, 1, 12, 11, 5, 6, 2, 1, 1, 1, 1, 29, 34, 8, 62, 21, 10, 1, 1, 20, 2, 7, 1, 15, 2, 4, 1, 1, 21, 3, 1, 1, 1, 1, 4, 1, 3, 20, 8, 5, 4, 2, 2, 2, 2, 2, 5, 8, 42, 23, 1, 7, 11, 1, 1, 2, 7, 1, 3, 2, 38, 8, 11, 4, 1, 1, 4, 2, 12, 2, 8, 8, 2, 4, 8, 6, 12, 6, 1, 2, 3, 1, 1, 1, 1, 4, 4, 2, 5, 1, 1, 1, 1, 1, 4, 43, 5, 4, 8, 1, 23, 1, 1, 5, 1, 37, 1, 14, 83, 2, 8, 2, 9, 24, 24, 6, 6, 1, 7, 1, 1, 1, 1, 42, 11, 28, 31, 3, 1, 1, 4, 7, 5, 1, 6, 1, 1, 3, 1, 1, 1, 4, 4, 1, 1, 1, 3, 18, 3, 1, 3, 1, 2, 13, 2, 26, 2, 1, 1, 11, 10, 8, 3, 5, 12, 3, 1, 13, 16, 1, 1, 9, 1, 4, 2, 3, 29, 4, 30, 5, 1, 4, 5, 25, 1, 6, 12, 1, 1, 4, 1, 8, 4, 1, 2, 1, 2, 10, 1, 12, 1, 15, 2, 7, 20, 17, 3, 5, 3, 5, 1, 8, 5, 4, 18, 2, 1, 7, 23, 2, 9, 2, 2, 2, 12, 2, 9, 1, 19, 1, 10, 1, 1, 2, 1, 1, 1, 3, 4, 7, 1, 1, 1, 12, 10, 2, 9, 5, 12, 1, 13, 1, 1, 64, 1, 9, 2, 1, 3, 48, 7, 1, 14, 28, 6, 1, 1, 36, 5, 5, 3, 5, 4, 9, 1, 10, 9, 2, 1, 3, 55, 4, 15, 11, 10, 19, 3, 10, 4, 23, 1, 8, 23, 2, 3, 1, 1, 1, 8, 1, 62, 41, 26, 14, 12, 5, 33, 2, 2, 1, 22, 1, 7, 19, 1, 1, 7, 5, 3, 4, 3, 13, 3, 2, 7, 1, 1, 1, 6, 1, 2, 3, 8, 11, 12, 1, 13, 5, 31, 1, 23, 1, 6, 1, 1, 13, 7, 4, 2, 5, 2, 23, 6, 3, 67, 36, 2, 4, 6, 1, 1, 1, 33, 2, 8, 25, 5, 3, 1, 13, 21, 3, 1, 1, 4, 13, 27, 6, 1, 5, 1, 32, 4, 13, 11, 6, 47, 8, 1, 1, 1, 8, 10, 1, 1, 1, 1, 1, 57, 6, 13, 1, 2, 15, 1, 5, 10, 37, 3, 3, 24, 8, 34, 1, 2, 1, 32, 1, 1, 49, 3, 1, 2, 8, 4, 6, 2, 1, 15, 7, 2, 1, 1, 1, 1, 1, 4, 1, 1, 2, 11, 5, 1, 2, 2, 2, 1, 1, 9, 1, 4, 4, 7, 16, 13, 3, 3, 1, 1, 6, 9, 7, 2, 2, 1, 6, 2, 3, 2, 11, 2, 1, 1, 8, 2, 1, 1, 9, 10, 1, 2, 7, 1, 2, 7, 13, 2, 1, 14, 2, 2, 26, 5, 1, 1, 15, 8, 2, 38, 4, 2, 2, 2, 4, 1, 1, 6, 8, 1, 1, 17, 1, 15, 3, 4, 3, 1, 2, 1, 14, 1, 4, 22, 11, 6, 6, 16, 14, 3, 1, 1, 1, 3, 7, 2, 2, 1, 2, 1, 6, 8, 5, 1, 6, 8, 5, 6, 1, 3, 20, 7, 1, 6, 4, 7, 2, 8, 4, 1, 2, 1, 30, 3, 23, 26, 1, 5, 8, 1, 10, 2, 9, 1, 21, 6, 3, 2, 2, 12, 2, 2, 1, 7, 4, 11, 41, 16, 5, 1, 1, 1, 4, 1, 10, 4, 35, 21, 1, 28, 1, 4, 15, 2, 1, 1, 1, 4, 2, 6, 1, 1, 5, 1, 4, 3, 19, 6, 6, 1, 1, 10, 1, 1, 1, 3, 1, 2, 1, 1, 13, 18, 1, 3, 13, 1, 8, 1, 5, 1, 57, 3, 16, 8, 3, 1, 3, 35, 11, 1, 2, 1, 1, 32, 2, 3, 19, 21, 1, 31, 10, 9, 3, 33, 22, 15, 6, 12, 4, 1, 1, 1, 1, 1, 1, 2, 1, 10, 1, 4, 11, 1, 16, 1, 1, 1, 1, 42, 1, 11, 1, 20, 11, 9, 7, 4, 10, 7, 3, 6, 5, 1, 1, 4, 1, 5, 2, 1, 3, 3, 13, 35, 14, 16, 3, 5, 18, 1, 13, 4, 1, 4, 1, 2, 2, 1, 1, 1, 1, 4, 3, 21, 1, 4, 1, 3, 1, 8, 12, 8, 2, 5, 1, 1, 1, 4, 4, 6, 12, 1, 26, 1, 1, 4, 2, 1, 2, 1, 1, 9, 1, 11, 9, 5, 6, 3, 22, 2, 2, 7, 7, 3, 3, 6, 3, 16, 1, 6, 5, 7, 15, 2, 8, 1, 7, 9, 12, 1, 1, 6, 1, 31, 2, 1, 1, 1, 13, 9, 6, 8, 1, 1, 1, 5, 1, 1, 1, 1, 7, 1, 1, 1, 22, 5, 2, 2, 3, 18, 1, 8, 3, 4, 1, 8, 17, 1, 3, 2, 20, 13, 3, 29, 2, 1, 1, 1, 2, 3, 10, 3, 1, 6, 1, 2, 4, 3, 2, 9, 1, 1, 4, 2, 2, 11, 1, 1, 2, 1, 4, 2, 1, 1, 20, 1, 4, 4, 3, 5, 7, 7, 1, 10, 1, 3, 1, 1, 6, 1, 1, 20, 4, 1, 1, 2, 11, 1, 1, 6, 11, 16, 1, 6, 1, 3, 3, 1, 1, 1, 3, 3, 1, 1, 3, 1, 3, 1, 9, 2, 1, 1, 1, 2, 6, 1, 7, 9, 10, 1, 4, 1, 6, 13, 5, 3, 1, 1, 6, 2, 3, 1, 49, 2, 1, 1, 1, 13, 9, 7, 8, 1, 43, 6, 5, 11, 2, 4, 1, 1, 1, 1, 20, 2, 2, 1, 2, 11, 20, 13, 45, 1, 16, 1, 1, 10, 3, 2, 22, 2, 2, 4, 1, 1, 1, 1, 1, 2, 17, 4, 1, 2, 16, 3, 1, 4, 4, 21, 4, 5, 5, 70, 7, 3, 7, 27, 1, 1, 1, 6, 11, 2, 1, 3, 1, 4, 21, 2, 3, 2, 3, 36, 1, 1, 4, 16, 5, 8, 7, 24, 4, 4, 1, 5, 1, 7, 4, 9, 18, 25, 3, 2, 8, 5, 6, 10, 3, 5, 3, 2, 2, 1, 1, 1, 2, 2, 2, 1, 22, 14, 19, 6, 1, 1, 4, 6, 39, 11, 2, 10, 2, 3, 2, 3, 2, 8, 1, 2, 10, 6, 5, 28, 11, 38, 17, 3, 1, 5, 1, 15, 11, 3, 5, 3, 1, 8, 1, 1, 1, 1, 1, 3, 6, 1, 11, 1, 2, 17, 4, 2, 1, 7, 1, 1, 1, 1, 1, 1, 1, 10, 2, 11, 31, 3, 5, 4, 5, 5, 2, 5, 4, 4, 4, 4, 3, 2, 3, 7, 1, 1, 25, 8, 7, 4, 7, 5, 10, 7, 2, 4, 4, 3, 20, 10, 1, 1, 7, 1, 7, 22, 1, 1, 5, 1, 29, 3, 1, 12, 26, 1, 3, 1, 3, 6, 5, 2, 16, 1, 29, 15, 26, 8, 4, 1, 5, 6, 14, 15, 10, 3, 6, 3, 22, 2, 2, 5, 19, 1, 1, 2, 1, 2, 1, 1, 25, 5, 1, 3, 1, 3, 25, 22, 1, 1, 1, 1, 3, 3, 1, 25, 1, 1, 2, 1, 1, 1, 3, 1, 6, 1, 9, 3, 4, 6, 4, 1, 13, 3, 1, 5, 3, 4, 3, 6, 5, 5, 5, 1, 1, 2, 2, 7, 5, 11, 3, 2, 17, 33, 1, 1, 1, 14, 1, 1, 2, 13, 10, 2, 7, 10, 1, 2, 6, 1, 1, 20, 1, 2, 2, 1, 3, 6, 1, 3, 1, 9, 1, 1, 1, 1, 19, 1, 1, 33, 1, 23, 1, 10, 1, 1, 1, 1, 2, 4, 4, 10, 2, 18, 3, 2, 3, 1, 1, 12, 12, 3, 6, 2, 2, 7, 2, 2, 1, 1, 1, 4, 2, 1, 32, 2, 2, 1, 2, 12, 6, 3, 1, 1, 3, 1, 3, 14, 24, 1, 12, 2, 2, 3, 2, 1, 6, 4, 2, 2, 3, 10, 4, 2, 1, 9, 2, 1, 1, 2, 7, 2, 16, 2, 1, 5, 2, 1, 1, 16, 19, 3, 1, 1, 1, 8, 1, 10, 1, 2, 4, 6, 4, 2, 36, 3, 1, 7, 4, 1, 5, 2, 7, 6, 16, 1, 5, 1, 11, 3, 1, 1, 25, 1, 25, 15, 3, 1, 1, 1, 1, 2, 10, 2, 5, 2, 5, 16, 13, 5, 1, 10, 4, 2, 6, 2, 1, 11, 1, 1, 5, 9, 5, 1, 6, 2, 4, 8, 10, 10, 3, 8, 1, 1, 1, 1, 6, 6, 3, 15, 2, 1, 3, 15, 1, 1, 4, 3, 1, 1, 5, 5, 3, 6, 15, 1, 4, 2, 1, 2, 17, 1, 8, 3, 5, 1, 2, 10, 1, 2, 1, 5, 12, 1, 1, 3, 6, 1, 1, 1, 10, 6, 8, 5, 3, 21, 8, 12, 13, 1, 5, 2, 1, 10, 1, 2, 1, 2, 6, 3, 1, 5, 1, 6, 4, 10, 3, 2, 1, 1, 2, 4, 1, 1, 1, 3, 1, 7, 2, 1, 4, 3, 1, 1, 1, 2, 1, 1, 6, 1, 1, 1, 12, 4, 1, 1, 3, 10, 1, 6, 16, 14, 2, 1, 1, 1, 5, 2, 15, 5, 4, 5, 1, 1, 40, 1, 9, 2, 1, 3, 2, 6, 32, 2, 1, 2, 1, 1, 3, 1, 1, 16, 3, 6, 2, 7, 2, 4, 1, 2, 2, 11, 1, 9, 1, 2, 3, 2, 1, 1, 1, 3, 3, 2, 3, 3, 2, 11, 1, 1, 1, 9, 1, 5, 4, 2, 10, 3, 20, 6, 2, 4, 10, 3, 1, 19, 1, 1, 1, 1, 5, 3, 3, 1, 12, 1, 1, 1, 1, 3, 2, 1, 5, 15, 7, 13, 3, 10, 5, 1, 7, 5, 9, 3, 21, 1, 7, 1, 2, 9, 17, 1, 8, 2, 1, 1, 1, 1, 2, 1, 18, 1, 24, 1, 1, 1, 7, 1, 5, 1, 7, 1, 2, 1, 5, 7, 10, 30, 8, 5, 16, 1, 7, 2, 49, 13, 4, 3, 1, 1, 3, 23, 14, 7, 6, 5, 2, 1, 9, 1, 6, 3, 3, 1, 3, 2, 4, 2, 4, 6, 5, 1, 3, 3, 1, 2, 11, 12, 3, 7, 1, 1, 1, 4, 3, 1, 1, 4, 4, 1, 1, 2, 6, 1, 1, 1, 1, 4, 3, 8, 7, 7, 3, 1, 1, 4, 5, 2, 2, 7, 1, 8, 14, 3, 3, 1, 1, 2, 1, 10, 1, 2, 5, 11, 3, 21, 1, 1, 2, 1, 1, 6, 29, 1, 1, 2, 1, 2, 3, 2, 6, 1, 3, 1, 1, 22, 2, 3, 2, 1, 1, 4, 2, 1, 5, 1, 1, 1, 1, 1, 4, 6, 4, 1, 7, 1, 1, 16, 2, 2, 3, 2, 1, 10, 17, 2, 1, 2, 2, 21, 5, 2, 16, 4, 1, 3, 11, 1, 1, 6, 4, 23, 2, 2, 4, 19, 5, 1, 2, 5, 1, 3, 1, 1, 2, 6, 1, 4, 5, 3, 19, 12, 1, 7, 2, 8, 4, 2, 8, 12, 6, 2, 27, 1, 1, 1, 5, 2, 2, 2, 3, 2, 10, 1, 3, 3, 11, 1, 1, 1, 1, 15, 15, 4, 27, 2, 12, 1, 1, 5, 3, 1, 9, 1, 4, 3, 1, 2, 1, 1, 1, 2, 2, 2, 9, 1, 2, 4, 1, 11, 5, 1, 5, 1, 5, 1, 5, 5, 13, 1, 2, 18, 3, 7, 6, 5, 3, 1, 5, 9, 1, 10, 4, 4, 5, 5, 3, 2, 1, 1, 4, 7, 20, 8, 1, 1, 1, 1, 1, 2, 5, 12, 7, 12, 10, 1, 1, 1, 7, 9, 1, 1, 1, 1, 2, 8, 20, 8, 1, 2, 2, 5, 8, 1, 1, 1, 3, 8, 5, 13, 5, 4, 1, 1, 2, 1, 1, 1, 13, 2, 11, 1, 6, 5, 3, 1, 2, 1, 5, 5, 5, 14, 3, 13, 2, 6, 1, 4, 2, 6, 4, 8, 15, 9, 7, 2, 1, 4, 4, 11, 1, 1, 5, 1, 3, 1, 5, 22, 3, 2, 2, 2, 3, 9, 4, 2, 2, 1, 4, 2, 5, 4, 9, 1, 7, 4, 1, 4, 1, 2, 5, 2, 11, 8, 1, 3, 1, 1, 1, 4, 2, 10, 6, 5, 4, 8, 2, 4, 2, 5, 1, 1, 1, 8, 1, 1, 1, 1, 2, 10, 4, 10, 1, 2, 25, 1, 1, 4, 3, 4, 4, 5, 1, 2, 14, 5, 2, 6, 1, 4, 1, 3, 8, 3, 8, 1, 9, 1, 2, 1, 1, 1, 2, 6, 36, 13, 2, 2, 2, 3, 1, 29, 4, 4, 1, 2, 1, 3, 1, 6, 3, 1, 1, 1, 1, 15, 10, 3, 12, 1, 5, 8, 2, 11, 5, 4, 6, 17, 9, 9, 1, 1, 1, 3, 2, 3, 2, 1, 2, 33, 1, 1, 1, 1, 16, 3, 3, 1, 2, 1, 3, 11, 16, 17, 1, 4, 7, 12, 4, 2, 3, 7, 21, 16, 1, 1, 1, 4, 4, 8, 8, 9, 2, 9, 13, 2, 1, 1, 6, 9, 1, 4, 12, 1, 2, 1, 1, 5, 5, 25, 16, 3, 1, 1, 8, 1, 1, 3, 3, 5, 23, 8, 5, 1, 1, 5, 3, 2, 7, 25, 1, 1, 4, 9, 1, 1, 1, 1, 1, 6, 3, 1, 20, 5, 1, 2, 4, 2, 1, 3, 1, 1, 1, 1, 4, 3, 2, 3, 2, 5, 1, 1, 1, 1, 16, 10, 4, 1, 3, 1, 2, 2, 17, 16, 1, 1, 2, 7, 1, 4, 1, 2, 2, 4, 7, 7, 2, 6, 3, 1, 1, 1, 3, 3, 1, 5, 2, 2, 2, 1, 3, 1, 6, 1, 3, 19, 1, 10, 1, 1, 6, 1, 17, 4, 1, 2, 1, 2, 1, 6, 10, 1, 1, 4, 5, 3, 1, 1, 7, 2, 2, 2, 9, 2, 8, 2, 18, 2, 3, 9, 5, 2, 4, 2, 1, 1, 1, 1, 3, 1, 15, 1, 1, 1, 1, 11, 1, 12, 2, 1, 1, 1, 4, 1, 6, 2, 1, 1, 1, 3, 1, 4, 1, 6, 12, 7, 7, 1, 1, 1, 9, 1, 2, 11, 1, 1, 1, 1, 1, 7, 9, 1, 2, 1, 5, 4, 2, 2, 4, 1, 1, 1, 3, 10, 5, 1, 1, 7, 19, 1, 1, 1, 1, 2, 7, 1, 3, 3, 1, 1, 1, 2, 2, 15, 2, 27, 6, 1, 1, 1, 4, 1, 5, 3, 1, 1, 1, 14, 1, 2, 1, 4, 6, 1, 4, 18, 1, 1, 1, 7, 1, 1, 15, 2, 1, 1, 1, 1, 1, 2, 1, 2, 15, 3, 10, 2, 7, 3, 6, 1, 1, 1, 2, 1, 17, 13, 6, 1, 1, 21, 1, 9, 1, 1, 1, 3, 1, 2, 8, 7, 7, 1, 11, 19, 2, 7, 2, 1, 4, 1, 1, 1, 2, 5, 9, 1, 1, 11, 6, 12, 6, 11, 1, 4, 3, 1, 2, 1, 2, 2, 3, 1, 2, 19, 8, 9, 1, 1, 2, 11, 2, 1, 1, 13, 1, 1, 1, 1, 4, 5, 5, 4, 2, 2, 2, 2, 1, 1, 11, 1, 1, 6, 5, 25, 1, 3, 2, 7, 5, 6, 11, 7, 4, 1, 1, 1, 24, 4, 7, 1, 1, 2, 30, 1, 4, 1, 5, 15, 6, 2, 1, 12, 3, 1, 1, 2, 2, 18, 8, 7, 8, 1, 12, 1, 27, 5, 3, 3, 39, 1, 1, 5, 18, 1, 2, 1, 2, 1, 5, 1, 4, 1, 1, 1, 1, 2, 15, 2, 6, 2, 2, 5, 2, 1, 7, 3, 1, 1, 2, 8, 1, 6, 4, 2, 1, 1, 1, 2, 7, 21, 2, 3, 12, 4, 4, 1, 1, 2, 3, 1, 1, 1, 9, 1, 1, 2, 16, 1, 1, 1, 1, 1, 1, 5, 3, 1, 9, 3, 9, 2, 1, 5, 4, 2, 3, 2, 3, 5, 1, 1, 4, 1, 3, 6, 2, 16, 5, 7, 1, 6, 10, 4, 1, 1, 1, 1, 1, 8, 1, 1, 1, 1, 3, 1, 2, 6, 1, 8, 1, 2, 1, 3, 1, 1, 2, 4, 1, 2, 1, 7, 3, 1, 1, 4, 4, 2, 6, 6, 6, 1, 1, 1, 1, 3, 3, 1, 1, 11, 1, 13, 8, 3, 2, 7, 1, 7, 2, 1, 4, 2, 2, 3, 4, 1, 6, 1, 1, 1, 4, 1, 1, 2, 4, 1, 14, 2, 1, 6, 1, 1, 1, 5, 6, 3, 6, 2, 1, 6, 1, 1, 6, 3, 1, 1, 1, 5, 12, 1, 1, 6, 1, 1, 13, 1, 2, 1, 9, 1, 1, 7, 2, 1, 3, 2, 1, 18, 19, 24, 8, 5, 1, 3, 4, 2, 5, 6, 2, 7, 1, 1, 1, 1, 3, 4, 11, 23, 1, 10, 4, 4, 7, 4, 2, 2, 11, 1, 1, 2, 1, 1, 9, 4, 2, 1, 1, 2, 6, 1, 4, 5, 14, 7, 1, 1, 1, 1, 1, 3, 11, 5, 1, 1, 1, 4, 2, 3, 1, 16, 1, 1, 2, 3, 5, 1, 4, 12, 6, 2, 5, 23, 4, 1, 3, 2, 1, 1, 3, 2, 6, 1, 16, 16, 7, 10, 1, 7, 5, 1, 1, 1, 3, 2, 1, 1, 2, 25, 6, 1, 1, 1, 2, 1, 7, 2, 3, 8, 1, 7, 21, 5, 1, 1, 2, 1, 8, 1, 1, 2, 1, 1, 1, 2, 1, 3, 3, 2, 3, 1, 2, 3, 1, 13, 1, 2, 2, 1, 1, 2, 1, 4, 1, 2, 1, 3, 5, 17, 1, 1, 1, 2, 2, 1, 2, 1, 1, 3, 4, 1, 2, 2, 1, 2, 1, 3, 5, 6, 3, 1, 3, 1, 5, 1, 3, 1, 1, 8, 2, 1, 1, 1, 4, 1, 1, 5, 1, 31, 3, 3, 3, 1, 1, 1, 9, 2, 2, 3, 2, 1, 2, 12, 1, 1, 1, 3, 8, 5, 14, 4, 3, 13, 1, 2, 4, 1, 1, 2, 1, 1, 7, 12, 2, 1, 6, 3, 3, 1, 1, 3, 5, 2, 1, 3, 6, 2, 5, 1, 11, 1, 1, 1, 5, 1, 7, 1, 7, 8, 3, 1, 4, 2, 1, 13, 1, 1, 2, 1, 2, 1, 1, 1, 1, 2, 3, 1, 2, 1, 3, 3, 2, 1, 5, 3, 4, 3, 2, 4, 1, 1, 1, 1, 2, 1, 1, 2, 10, 1, 2, 1, 2, 1, 1, 1, 1, 2, 1, 1, 2, 2, 6, 1, 1, 16, 2, 1, 1, 1, 1, 2, 2, 3, 5, 2, 3, 5, 2, 13, 2, 4, 4, 4, 1, 8, 1, 6, 5, 16, 1, 2, 3, 1, 1, 1, 4, 1, 4, 1, 2, 1, 4, 2, 1, 1, 2, 1, 4, 22, 1, 2, 7, 1, 3, 1, 2, 1, 1, 3, 3, 2, 1, 4, 1, 2, 2, 1, 1, 1, 2, 1, 3, 2, 6, 2, 5, 1, 3, 1, 1, 1, 1, 19, 3, 18, 2, 4, 2, 1, 2, 12, 1, 1, 2, 1, 1, 1, 4, 5, 3, 1, 1, 1, 1, 1, 1, 3, 3, 2, 1, 1, 9, 1, 4, 1, 1, 2, 1, 3, 1, 5, 4, 4, 2, 5, 1, 3, 2, 9, 1, 3, 8, 2, 1, 2, 1, 2, 9, 4, 3, 1, 1, 1, 1, 1, 3, 4, 1, 1, 1, 3, 1, 1, 7, 1, 1, 1, 5, 1, 5, 1, 2, 1, 1, 1, 8, 1, 1, 1, 1, 1, 1, 1, 1, 16, 3, 1, 1, 1, 2, 1, 1, 2, 13, 5, 1, 4, 1, 1, 1, 3, 6, 12, 7, 1, 1, 1, 4, 3, 1, 1, 1, 1, 1, 4, 2, 1, 4, 5, 8, 2, 5, 2, 1, 2, 1, 5, 1, 1, 1, 1, 2, 1, 11, 1, 1, 1, 1, 5, 1, 5, 3, 1, 3, 2, 5, 1, 2, 2, 1, 1, 6, 6, 8, 1, 12, 2, 1, 1, 1, 1, 5, 5, 2, 3, 1, 2, 2, 7, 1, 1, 1, 2, 4, 2, 1, 12, 1, 2, 3, 2, 1, 1, 1, 1, 2, 1, 1, 5, 6, 8, 2, 2, 5, 2, 23, 1, 2, 10, 7, 2, 3, 1, 1, 1, 2, 1, 1, 1, 12, 2, 3, 2, 5, 2, 1, 3, 1, 1, 3, 5, 2, 1, 9, 11, 1, 8, 1, 3, 4, 1, 2, 1, 1, 1, 1, 1, 1, 1, 1, 4, 5, 1, 14, 3, 2, 5, 2, 2, 6, 1, 1, 1, 5, 1, 3, 1, 3, 1, 4, 2, 1, 1, 2, 1, 2, 1, 1, 1, 1, 1, 1, 2, 10, 7, 9, 1, 6, 6, 8, 3, 15, 2, 13, 5, 1, 8, 2, 1, 9, 2, 1, 1, 1, 1, 3, 3, 2, 4, 2, 14, 12, 5, 1, 1, 5, 2, 1, 1, 10, 4, 2, 2, 2, 1, 1, 7, 4, 6, 9, 1, 1, 3, 1, 4, 1, 1, 1, 2, 1, 1, 1, 1, 3, 2, 2, 2, 2, 5, 1, 5, 4, 1, 1, 8, 2, 2, 1, 2, 1, 4, 1, 6, 6, 10, 6, 1, 1, 1, 1, 1, 6, 5, 5, 1, 1, 1, 6, 1, 4, 1, 1, 3, 4, 10, 2, 3, 4, 6, 11, 12, 3, 2, 1, 1, 14, 2, 1, 1, 2, 6, 1, 1, 1, 5, 2, 3, 6, 3, 5, 1, 8, 6, 4, 3, 6, 3, 2, 7, 2, 7, 1, 1, 4, 1, 12, 1, 1, 1, 1, 1, 1, 1, 1, 1, 3, 3, 7, 1, 10, 5, 4, 1, 3, 5, 2, 1, 1, 1, 1, 1, 2, 1, 3, 10, 2, 2, 1, 2, 1, 1, 11, 1, 4, 4, 2, 3, 2, 1, 1, 2, 1, 3, 10, 12, 1, 6, 1, 1, 13, 9, 9, 8, 1, 1, 3, 2, 4, 3, 6, 1, 7, 1, 1, 2, 3, 1, 1, 1, 1, 2, 1, 3, 2, 3, 2, 2, 1, 9, 4, 1, 6, 2, 3, 6, 8, 20, 1, 4, 3, 1, 10, 2, 1, 4, 1, 2, 1, 1, 1, 1, 1, 5, 3, 4, 1, 1, 1, 2, 13, 1, 1, 4, 3, 4, 4, 1, 1, 8, 7, 2, 4, 2, 4, 2, 12, 2, 2, 10, 6, 1, 1, 3, 1, 10, 1, 3, 4, 5, 1, 1, 6, 3, 3, 1, 1, 3, 3, 1, 5, 11, 2, 1, 5, 4, 1, 3, 1, 4, 2, 1, 6, 9, 2, 1, 1, 1, 1, 1, 1, 4, 2, 1, 4, 4, 9, 1, 1, 7, 1, 1, 1, 1, 1, 11, 7, 1, 4, 3, 2, 1, 1, 1, 5, 1, 1, 2, 2, 4, 3, 5, 2, 3, 1, 1, 1, 1, 7, 1, 2, 1, 1, 1, 1, 1, 1, 4, 1, 2, 1, 4, 3, 3, 4, 2, 1, 2, 1, 1, 5, 1, 1, 1, 5, 1, 1, 1, 1, 1, 3, 1, 2, 1, 1, 2, 9, 4, 2, 1, 2, 1, 1, 4, 4, 2, 1, 12, 1, 13, 4, 2, 1, 2, 2, 3, 1, 1, 1, 1, 2, 4, 2, 17, 3, 2, 1, 2, 3, 1, 1, 1, 1, 1, 1, 1, 9, 2, 2, 1, 1, 1, 3, 7, 1, 1, 2, 1, 1, 7, 2, 1, 1, 4, 20, 11, 1, 2, 2, 1, 1, 1, 1, 5, 1, 3, 2, 4, 1, 15, 1, 1, 1, 5, 1, 1, 1, 1, 1, 4, 1, 1, 1, 3, 5, 1, 4, 2, 2, 1, 1, 1, 19, 1, 4, 1, 3, 1, 1, 1, 2, 1, 1, 1, 2, 1, 1, 1, 1, 10, 1, 2, 2, 1, 30, 1, 2, 1, 1, 1, 2, 1, 1, 1, 1, 7, 3, 12, 1, 2, 1, 1, 1, 1, 1, 1, 3, 1, 1, 1, 1, 1, 1, 1, 4, 1, 1, 1, 1, 1, 1, 2, 3, 1, 1, 1, 1, 3, 1, 1, 1, 1, 3, 1, 1, 2, 4, 5, 1, 1, 2, 1, 16, 3, 1, 5, 1, 2, 2, 1, 1, 1, 2, 1, 1, 1, 1, 3, 1, 5, 1, 4, 1, 2, 2, 2, 3, 1, 1, 2, 1, 1, 1, 1, 2, 1, 1, 1, 1, 2, 4, 1, 1, 6, 1, 3, 2, 3, 2, 1, 1, 2, 4, 4, 1, 1, 1, 1, 1, 1, 1, 2, 3, 1, 1, 1, 2, 3, 1, 1, 2, 3, 1, 2, 1, 1, 6, 1, 1, 1, 2, 1, 1, 1, 1, 1, 7, 1, 4, 1, 3, 1, 1, 1, 1, 2, 1, 1, 1, 1, 1, 1, 4, 1, 1, 2, 1, 1, 2, 2, 2, 2, 1, 1, 7, 1, 1, 1, 1, 1, 1, 6, 12, 2, 2, 2, 1, 4, 2, 2, 2, 1, 1, 2, 2, 2, 1, 1, 1, 5, 1, 1, 3, 2, 1, 1, 6, 1, 1, 1, 1, 1, 4, 1, 1, 3, 1, 12, 1, 1, 2, 1, 1, 1, 1, 2, 1, 1, 1, 1, 1, 2, 1, 2, 4, 2, 1, 2, 1, 2, 1, 1, 1, 3, 1, 1, 2, 6, 1, 1, 5, 2, 1, 1, 3, 3, 1, 1, 1, 8, 2, 1, 3, 2, 2, 1, 8, 1, 1, 1, 6, 3, 1, 1, 2, 2, 1, 5, 1, 4, 3, 1, 2, 15, 3, 2, 1, 1, 1, 4, 3, 3, 1, 1, 2, 2, 4, 5, 1, 1, 1, 8, 1, 2, 2, 1, 1, 1, 3, 4, 8, 3, 2, 1, 1, 1, 1, 6, 1, 4, 2, 1, 2, 1, 1, 1, 1, 2, 1, 1, 1, 1, 1, 3, 7, 1, 4, 2, 1, 4, 1, 3, 7, 4, 2, 1, 3, 1, 1, 1, 7, 1, 9, 10, 13, 6, 1, 1, 1, 1, 2, 1, 6, 12, 1, 1, 1, 1, 1, 2, 2, 10, 1, 5, 3, 2, 2, 1, 2, 1, 1, 1, 11, 1, 2, 1, 6, 3, 1, 3, 1, 14, 4, 2, 2, 1, 5, 2, 2, 2, 2, 2, 3, 1, 1, 1, 5, 1, 1, 1, 1, 2, 1, 1, 2, 1, 1, 7, 1, 4, 1, 2, 1, 5, 1, 1, 1, 7, 2, 1, 1, 1, 2, 1, 2, 2, 1, 1, 1, 1, 1, 4, 1, 1, 2, 14, 1, 1, 2, 10, 1, 2, 1, 1, 2, 1, 1, 8, 10, 1, 3, 2, 9, 4, 5, 1, 2, 7, 1, 1, 1, 6, 15, 1, 2, 3, 9, 4, 5, 1, 2, 1, 2, 1, 1, 4, 1, 2, 5, 1, 5, 1, 1, 1, 1, 3, 2, 1, 1, 1, 1, 3, 1, 2, 4, 2, 2, 1, 1, 1, 1, 1, 2, 1, 4, 1, 1, 1, 1, 1, 2, 2, 3, 1, 2, 1, 2, 1, 8, 2, 4, 1, 1, 5, 1, 1, 2, 2, 1, 1, 1, 1, 9, 1, 1, 6, 2, 1, 2, 2, 8, 2, 2, 3, 1, 5, 1, 2, 2, 2, 2, 1, 2, 4, 5, 1, 1, 1, 1, 2, 9, 1, 1, 2, 1, 1, 3, 1, 3, 2, 1, 3, 1, 2, 1, 7, 2, 3, 1, 2, 2, 6, 1, 4, 1, 1, 2, 2, 1, 1, 4, 2, 2, 2, 3, 4, 2, 1, 1, 1, 1, 1, 1, 1, 1, 1, 1, 1, 1, 2, 1, 2, 7, 1, 1, 1, 1, 1, 1, 5, 2, 1, 1, 5, 2, 4, 1, 1, 1, 2, 1, 1, 1, 5, 1, 1, 4, 1, 1, 2, 2, 4, 5, 1, 1, 4, 1, 2, 3, 8, 1, 1, 1, 1, 1, 4, 1, 1, 1, 1, 6, 2, 9, 2, 2, 3, 23, 2, 2, 3, 6, 2, 1, 1, 1, 1, 1, 2, 3, 1, 4, 1, 2, 1, 1, 6, 7, 1, 2, 1, 1, 3, 1, 1, 3, 4, 1, 2, 3, 2, 3, 5, 1, 1, 2, 1, 1, 1, 1, 1, 1, 1, 1, 1, 1, 1, 1, 4, 4, 3, 1, 3, 2, 7, 2, 1, 2, 2, 1, 8, 3, 2, 5, 1, 3, 1, 1, 1, 1, 2, 1, 2, 1, 1, 4, 1, 1, 1, 1, 1, 1, 6, 7, 5, 1, 1, 1, 2, 1, 2, 8, 3, 4, 1, 1, 1, 1, 4, 10, 1, 3, 1, 2, 3, 8, 3, 1, 1, 1, 1, 1, 6, 1, 1, 5, 2, 5, 1, 4, 7, 1, 8, 8, 2, 9, 10, 2, 1, 2, 2, 2, 1, 2, 1, 4, 1, 1, 1, 3, 1, 4, 7, 10, 1, 2, 3, 3, 1, 1, 1, 1, 3, 3, 2, 5, 4, 1, 18, 1, 3, 2, 4, 1, 2, 3, 1, 6, 2, 1, 1, 1, 18, 1, 1, 12, 12, 2, 1, 1, 1, 1, 4, 1, 1, 1, 1, 1, 2, 15, 3, 1, 2, 1, 1, 1, 1, 1, 1, 5, 3, 1, 1, 1, 1, 1, 4, 1, 1, 1, 1, 3, 4, 1, 1, 1, 1, 1, 1, 3, 1, 1, 1, 3, 1, 1, 3, 5, 14, 2, 7, 1, 2, 8, 1, 5, 5, 1, 4, 1, 5, 1, 1, 4, 3, 1, 8, 2, 5, 2, 1, 1, 5, 1, 3, 2, 2, 1, 2, 2, 2, 4, 2, 8, 1, 1, 4, 7, 1, 5, 1, 8, 1, 1, 1, 1, 1, 3, 1, 1, 1, 5, 4, 1, 6, 1, 1, 3, 2, 2, 1, 1, 2, 2, 1, 1, 1, 1, 1, 3, 2, 1, 1, 3, 3, 5, 3, 3, 3, 3, 6, 1, 1, 1, 6, 1, 5, 5, 1, 1, 5, 2, 1, 1, 3, 3, 1, 1, 1, 2, 2, 1, 1, 4, 3, 1, 9, 1, 1, 1, 3, 1, 3, 3, 1, 1, 2, 1, 1, 1, 1, 1, 1, 1, 1, 3, 5, 1, 6, 1, 1, 1, 1, 1, 1, 4, 4, 1, 3, 1, 1, 1, 2, 3, 1, 2, 2, 3, 2, 1, 1, 4, 1, 6, 1, 1, 1, 8, 1, 12, 1, 2, 3, 1, 1, 1, 1, 3, 1, 1, 1, 1, 1, 1, 1, 1, 1, 2, 1, 6, 2, 2, 5, 2, 2, 2, 2, 1, 1, 4, 1, 1, 9, 3, 2, 2, 1, 5, 1, 1, 6, 1, 1, 13, 1, 2, 1, 1, 1, 3, 2, 1, 1, 1, 1, 1, 1, 1, 2, 2, 2, 4, 5, 1, 8, 2, 3, 1, 3, 12, 4, 3, 1, 1, 3, 1, 2, 1, 2, 1, 1, 1, 1, 1, 1, 1, 1, 5, 2, 1, 2, 1, 3, 1, 2, 4, 1, 7, 1, 4, 1, 5, 1, 11, 1, 1, 1, 2, 1, 1, 1, 1, 3, 3, 3, 1, 2, 1, 3, 5, 6, 1, 1, 1, 5, 1, 1, 1, 2, 5, 1, 1, 7, 2, 2, 1, 3, 2, 3, 2, 1, 5, 2, 1, 2, 2, 1, 2, 16, 1, 1, 1, 21, 1, 1, 1, 2, 5, 1, 1, 1, 1, 1, 1, 1, 3, 1, 7, 2, 1, 1, 1, 1, 5, 1, 1, 7, 2, 1, 2, 1, 1, 2, 1, 1, 2, 1, 1, 1, 8, 1, 1, 3, 2, 2, 2, 1, 1, 6, 2, 1, 1, 1, 1, 1, 1, 1, 1, 1, 1, 1, 12, 1, 1, 1, 3, 1, 2, 2, 1, 1, 1, 2, 4, 8, 4, 8, 3, 1, 3, 1, 1, 1, 1, 1, 9, 2, 1, 3, 1, 1, 1, 1, 3, 2, 9, 4, 1, 1, 4, 1, 2, 5, 1, 4, 5, 4, 1, 1, 1, 6, 1, 1, 1, 2, 3, 1, 1, 1, 5, 2, 2, 1, 3, 1, 1, 1, 2, 7, 1, 3, 4, 6, 6, 1, 1, 1, 8, 1, 1, 1, 2, 5, 1, 3, 2, 1, 1, 1, 9, 7, 3, 1, 1, 4, 1, 1, 2, 1, 1, 2, 1, 1, 2, 4, 1, 2, 2, 5, 2, 6, 2, 1, 3, 1, 5, 2, 1, 2, 6, 1, 2, 7, 3, 1, 1, 3, 1, 1, 3, 1, 10, 1, 1, 2, 1, 1, 1, 7, 1, 1, 1, 1, 1, 1, 1, 1, 2, 1, 2, 2, 2, 1, 1, 2, 3, 1, 1, 1, 3, 10, 11, 2, 5, 1, 5, 2, 1, 6, 1, 3, 2, 2, 2, 2, 8, 5, 1, 1, 3, 1, 2, 1, 1, 1, 1, 2, 1, 1, 7, 1, 1, 1, 1, 1, 1, 1, 1, 12, 3, 1, 6, 2, 4, 1, 3, 2, 1, 1, 3, 7, 2, 1, 2, 5, 3, 2, 2, 4, 1, 1, 3, 1, 1, 1, 3, 2, 2, 1, 3, 6, 3, 1, 1, 1, 2, 15, 3, 1, 6, 2, 1, 17, 3, 2, 7, 1, 5, 1, 6, 2, 4, 2, 4, 2, 1, 3, 2, 2, 2, 1, 4, 1, 1, 1, 3, 1, 7, 5, 3, 2, 1, 1, 8, 1, 1, 3, 3, 1, 3, 1, 4, 2, 1, 1, 1, 1, 1, 1, 1, 2, 2, 2, 2, 4, 3, 4, 1, 1, 1, 2, 1, 1, 1, 1, 1, 3, 1, 1, 1, 4, 2, 2, 2, 1, 4, 1, 1, 1, 7, 1, 1, 3, 2, 1, 1, 1, 1, 1, 3, 1, 3, 1, 10, 1, 2, 3, 1, 2, 7, 13, 1, 1, 1, 2, 1, 2, 3, 3, 1, 1, 4, 1, 3, 1, 2, 1, 3, 3, 1, 2, 5, 4, 1, 1, 2, 2, 2, 1, 3, 1, 1, 4, 5, 1, 1, 1, 14, 3, 1, 1, 1, 3, 1, 4, 2, 2, 1, 1, 2, 3, 2, 4, 1, 4, 1, 2, 2, 1, 1, 2, 2, 3, 1, 1, 3, 2, 3, 1, 1, 2, 1, 2, 1, 1, 1, 2, 2, 2, 6, 3, 3, 1, 2, 2, 1, 1, 1, 1, 1, 2, 2, 4, 1, 3, 1, 1, 1, 1, 1, 1, 3, 1, 2, 2, 3, 3, 5, 2, 3, 1, 2, 2, 1, 3, 3, 6, 1, 1, 1, 1, 1, 2, 1, 2, 1, 3, 3, 1, 3, 1, 1, 7, 4, 1, 2, 1, 2, 5, 2, 1, 3, 1, 4, 1, 4, 3, 4, 1, 1, 2, 2, 1, 1, 2, 1, 1, 9, 1, 2, 1, 10, 4, 8, 5, 6, 5, 4, 4, 2, 1, 2, 4, 1, 3, 2, 1, 1, 1, 1, 1, 1, 11, 1, 2, 1, 1, 12, 1, 1, 6, 1, 2, 6, 2, 1, 1, 2, 2, 1, 1, 2, 2, 4, 2, 3, 2, 1, 8, 1, 1, 4, 1, 1, 1, 2, 1, 2, 4, 3, 5, 2, 1, 1, 1, 2, 1, 1, 1, 2, 2, 2, 1, 1, 2, 1, 2, 2, 2, 2, 6, 1, 1, 1, 1, 6, 1, 2, 1, 1, 1, 2, 1, 1, 4, 6, 1, 3, 1, 1, 1, 1, 4, 4, 2, 2, 1, 2, 1, 2, 1, 1, 1, 1, 7, 1, 1, 7, 2, 2, 1, 1, 5, 2, 1, 4, 4, 4, 1, 1, 1, 1, 10, 1, 1, 1, 2, 1, 1, 1, 1, 1, 1, 4, 1, 1, 1, 2, 1, 1, 1, 1, 3, 4, 3, 5, 1, 3, 2, 2, 1, 4, 1, 5, 1, 2, 1, 1, 1, 1, 5, 1, 1, 4, 5, 6, 3, 1, 4, 8, 1, 1, 2, 1, 1, 5, 2, 1, 1, 1, 1, 1, 2, 1, 2, 1, 3, 1, 1, 1, 1, 1, 1, 1, 1, 1, 1, 1, 2, 2, 2, 1, 1, 1, 1, 2, 5, 2, 1, 10, 4, 1, 3, 3, 2, 6, 1, 1, 8, 1, 4, 5, 4, 1, 1, 1, 1, 6, 1, 2, 2, 1, 4, 1, 4, 2, 1, 1, 2, 2, 4, 2, 1, 1, 1, 2, 4, 5, 1, 1, 1, 1, 1, 1, 2, 1, 1, 1, 3, 1, 1, 3, 1, 2, 1, 1, 1, 5, 5, 1, 1, 1, 1, 1, 1, 5, 2, 1, 1, 3, 1, 3, 2, 6, 3, 1, 1, 2, 1, 2, 2, 3, 1, 6, 1, 1, 1, 2, 2, 1, 4, 1, 1, 2, 1, 3, 4, 1, 1, 1, 1, 1, 2, 3, 2, 1, 1, 2, 2, 3, 1, 1, 2, 1, 1, 3, 2, 1, 1, 1, 1, 2, 4, 1, 1, 1, 3, 1, 1, 1, 1, 2, 1, 2, 1, 1, 2, 1, 6, 1, 6, 1, 4, 1, 1, 1, 3, 2, 1, 3, 1, 4, 2, 6, 2, 1, 1, 1, 2, 1, 1, 1, 4, 2, 1, 1, 3, 1, 4, 3, 1, 5, 1, 1, 1, 1, 5, 4, 2, 1, 3, 1, 1, 4, 2, 1, 1, 1, 1, 1, 6, 1, 1, 2, 3, 1, 1, 1, 2, 3, 3, 1, 2, 1, 1, 2, 1, 1, 1, 1, 1, 1, 1, 2, 3, 3, 4, 5, 1, 1, 1, 2, 1, 3, 1, 1, 4, 1, 1, 2, 1, 2, 1, 6, 3, 5, 1, 1, 3, 1, 1, 1, 2, 1, 5, 1, 5, 5, 5, 6, 1, 1, 1, 1, 1, 3, 1, 1, 2, 6, 1, 5, 1, 1, 6, 2, 7, 1, 1, 1, 11, 1, 2, 1, 1, 5, 1, 1, 2, 2, 1, 1, 3, 1, 1, 1, 2, 1, 1, 5, 1, 12, 4, 1, 4, 2, 1, 1, 1, 1, 2, 1, 2, 1, 1, 1, 2, 2, 1, 2, 3, 2, 1, 1, 1, 2, 1, 1, 1, 3, 1, 1, 1, 1, 1, 3, 7, 4, 4, 2, 2, 3, 1, 1, 1, 1, 13, 1, 1, 8, 1, 1, 1, 1, 3, 2, 1, 1, 1, 1, 2, 1, 1, 1, 2, 1, 1, 1, 2, 3, 2, 2, 2, 1, 1, 1, 13, 1, 2, 1, 6, 1, 2, 1, 1, 8, 2, 2, 1, 1, 1, 5, 1, 1, 4, 1, 1, 3, 1, 5, 2, 3, 2, 4, 3, 3, 3, 1, 1, 1, 1, 1, 2, 1, 2, 3, 1, 1, 2, 3, 1, 1, 2, 1, 1, 1, 2, 2, 5, 1, 1, 1, 1, 2, 1, 1, 1, 1, 3, 1, 1, 1, 9, 1, 1, 2, 1, 1, 4, 5, 4, 4, 1, 1, 1, 1, 2, 3, 1, 1, 3, 2, 3, 1, 1, 1, 2, 1, 1, 2, 1, 1, 1, 1, 2, 1, 1, 2, 2, 1, 4, 1, 1, 1, 1, 2, 1, 2, 1, 1, 1, 4, 1, 4, 2, 3, 2, 1, 3, 1, 5, 1, 3, 1, 1, 1, 1, 1, 1, 1, 1, 1, 4, 1, 1, 1, 1, 1, 1, 1, 1, 2, 1, 1, 6, 1, 1, 1, 1, 9, 1, 1, 3, 9, 1, 2, 5, 1, 2, 2, 3, 1, 1, 1, 1, 1, 2, 1, 1, 1, 1, 2, 1, 1, 1, 1, 2, 7, 1, 2, 1, 1, 2, 1, 1, 5, 4, 2, 1, 1, 1, 3, 4, 2, 1, 4, 1, 2, 1, 1, 1, 1, 1, 2, 2, 3, 1, 1, 2, 3, 4, 1, 1, 5, 1, 1, 1, 1, 1, 1, 1, 1, 1, 4, 2, 3, 1, 1, 3, 2, 1, 4, 2, 2, 1, 1, 1, 1, 1, 1, 3, 1, 1, 1, 8, 1, 5, 2, 1, 1, 1, 3, 4, 1, 1, 1, 1, 1, 6, 2, 2, 1, 1, 1, 5, 2, 2, 3, 1, 1, 6, 9, 2, 2, 1, 1, 1, 1, 2, 2, 1, 9, 2, 2, 2, 8, 1, 2, 4, 2, 2, 1, 1, 2, 2, 2, 2, 2, 1, 2, 1, 5, 3, 2, 1, 2, 1, 1, 2, 5, 1, 1, 1, 1, 1, 1, 1, 1, 1, 1, 1, 1, 1, 1, 1, 2, 1, 1, 1, 5, 1, 1, 1, 1, 1, 2, 3, 2, 2, 1, 1, 1, 3, 2, 2, 3, 2, 2, 4, 1, 11, 1, 1, 2, 1, 1, 1, 1, 1, 2, 1, 1, 4, 4, 4, 1, 1, 1, 2, 1, 3, 1, 1, 1, 1, 1, 1, 1, 5, 5, 1, 1, 1, 1, 1, 6, 3, 3, 2, 2, 1, 1, 13, 4, 6, 2, 1, 2, 1, 1, 1, 4, 1, 3, 1, 2, 1, 1, 1, 2, 1, 1, 1, 7, 1, 2, 13, 9, 7, 3, 8, 1, 1, 2, 3, 2, 1, 8, 1, 1, 1, 1, 2, 2, 1, 1, 1, 6, 5, 1, 1, 9, 1, 2, 1, 1, 1, 1, 3, 2, 3, 1, 1, 1, 2, 2, 2, 1, 2, 1, 1, 1, 3, 1, 2, 2, 2, 1, 1, 1, 1, 1, 1, 3, 1, 7, 1, 1, 1, 3, 1, 1, 2, 1, 1, 1, 1, 1, 7, 1, 4, 1, 3, 1, 2, 3, 1, 1, 1, 1, 1, 1, 1, 1, 1, 1, 1, 1, 3, 1, 1, 2, 4, 1, 1, 1, 1, 2, 1, 1, 5, 1, 1, 1, 1, 1, 1, 1, 1, 5, 1, 1, 1, 5, 1, 1, 1, 1, 2, 1, 1, 2, 2, 15, 1, 1, 2, 2, 1, 1, 3, 1, 1, 8, 2, 5, 5, 1, 5, 2, 4, 4, 3, 3, 1, 4, 5, 4, 4, 3, 1, 6, 1, 4, 3, 5, 1, 5, 1, 4, 2, 1, 5, 2, 2, 2, 1, 6, 1, 1, 5, 1, 3, 4, 1, 1, 1, 1, 4, 1, 1, 1, 1, 1, 1, 2, 2, 2, 2, 2, 3, 1, 1, 1, 1, 1, 1, 4, 2, 4, 1, 1, 1, 3, 1, 1, 1, 1, 1, 1, 3, 1, 5, 5, 1, 2, 1, 1, 1, 4, 1, 3, 10, 7, 2, 1, 2, 2, 1, 1, 2, 2, 1, 2, 1, 4, 2, 2, 2, 2, 2, 2, 1, 8, 1, 1, 1, 2, 1, 2, 1, 1, 2, 3, 2, 1, 1, 1, 1, 2, 4, 1, 1, 4, 5, 2, 3, 1, 2, 4, 1, 5, 2, 4, 2, 2, 1, 3, 2, 2, 5, 2, 3, 1, 1, 1, 2, 1, 1, 4, 3, 11, 1, 1, 1, 1, 1, 1, 1, 1, 9, 1, 1, 4, 1, 3, 2, 1, 1, 1, 1, 1, 1, 1, 2, 1, 1, 3, 2, 4, 5, 1, 3, 2, 2, 1, 1, 2, 2, 1, 3, 1, 2, 1, 2, 1, 1, 1, 2, 1, 1, 3, 3, 1, 1, 2, 1, 1, 1, 1, 1, 1, 1, 1, 1, 1, 1, 1, 1, 1, 1, 1, 1, 1, 1, 1, 2, 1, 8, 2, 1, 1, 2, 6, 1, 1, 7, 7, 2, 5, 1, 1, 1, 1, 1, 2, 1, 1, 1, 4, 1, 1, 2, 2, 3, 1, 1, 1, 1, 3, 1, 1, 1, 2, 1, 3, 1, 4, 6, 3, 3, 3, 3, 1, 1, 2, 1, 2, 2, 1, 3, 1, 3, 1, 1, 1, 1, 2, 1, 1, 1, 1, 1, 1, 1, 1, 3, 3, 2, 1, 1, 1, 1, 2, 1, 1, 1, 1, 1, 1, 2, 1, 3, 6, 2, 1, 1, 1, 1, 1, 5, 1, 2, 1, 1, 1, 1, 1, 3, 4, 3, 1, 4, 8, 1, 3, 1, 1, 1, 1, 2, 10, 2, 1, 1, 1, 1, 2, 1, 6, 2, 1, 1, 3, 1, 1, 2, 2, 4, 2, 1, 1, 4, 1, 1, 1, 1, 9, 2, 2, 1, 1, 8, 1, 2, 1, 1, 1, 1, 1, 1, 1, 2, 2, 1, 2, 1, 1, 2, 1, 1, 1, 1, 1, 1, 1, 1, 1, 1, 1, 1, 1, 1, 1, 1, 4, 1, 1, 2, 1, 1, 1, 2, 1, 6, 3, 1, 1, 1, 1, 2, 2, 1, 1, 2, 1, 1, 1, 1, 1, 1, 1, 1, 1, 1, 1, 4, 3, 5, 3, 3, 3, 1, 4, 1, 1, 1, 1, 1, 1, 1, 1, 1, 3, 1, 3, 1, 3, 3, 3, 4, 3, 2, 2, 1, 2, 1, 1, 1, 2, 1, 1, 1, 1, 1, 1, 1, 1, 2, 3, 1, 1, 2, 3, 2, 1, 1, 2, 7, 1, 1, 1, 1, 1, 1, 1, 2, 1, 2, 1, 1, 2, 2, 2, 2, 1, 2, 1, 2, 1, 1, 4, 2, 2, 3, 5, 2, 1, 1, 1, 3, 1, 1, 1, 1, 2, 1, 1, 1, 1, 1, 2, 3, 6, 5, 1, 1, 1, 1, 1, 1, 2, 1, 4, 2, 2, 3, 1, 1, 1, 1, 1, 1, 1, 1, 1, 1, 1, 2, 1, 1, 1, 1, 2, 1, 6, 2, 2, 1, 2, 1, 1, 1, 1, 1, 1, 1, 1, 1, 3, 2, 2, 2, 3, 2, 2, 1, 1, 3, 1, 1, 1, 5, 3, 2, 4, 1, 1, 1, 1, 1, 1, 3, 1, 1, 2, 3, 1, 1, 2, 4, 1, 1, 1, 1, 1, 1, 5, 1, 1, 2, 1, 3, 3, 1, 1, 3, 3, 1, 1, 4, 2, 2, 8, 1, 2, 1, 1, 2, 1, 3, 1, 1, 1, 2, 1, 3, 1, 1, 1, 1, 1, 1, 1, 2, 1, 5, 1, 1, 2, 1, 1, 1, 1, 1, 1, 3, 4, 2, 1, 1, 1, 1, 1, 2, 1, 2, 1, 1, 2, 2, 1, 1, 1, 2, 2, 1, 5, 1, 3, 2, 1, 1, 1, 1, 2, 1, 1, 1, 1, 3, 2, 2, 1, 1, 1, 2, 2, 2, 10, 1, 4, 1, 1, 1, 1, 1, 1, 2, 1, 9, 1, 1, 1, 1, 6, 3, 1, 1, 1, 2, 1, 1, 2, 1, 1, 1, 2, 1, 1, 1, 1, 1, 2, 1, 2, 1, 1, 2, 1, 1, 1, 1, 2, 2, 1, 2, 1, 1, 1, 1, 2, 1, 1, 1, 1, 1, 1, 7, 1, 1, 1, 1, 14, 1, 1, 1, 1, 3, 2, 4, 4, 1, 1, 1, 1, 2, 3, 2, 1, 1, 1, 1, 1, 4, 1, 2, 1, 2, 1, 1, 8, 1, 1, 1, 4, 2, 2, 2, 1, 1, 2, 1, 1, 1, 1, 9, 2, 1, 1, 2, 9, 1, 1, 1, 2, 2, 1, 1, 1, 1, 1, 4, 2, 1, 1, 1, 2, 3, 1, 4, 1, 4, 9, 2, 2, 1, 1, 2, 1, 1, 1, 1, 2, 2, 1, 1, 1, 1, 1, 1, 3, 1, 4, 2, 1, 1, 2, 1, 1, 2, 2, 2, 1, 1, 1, 1, 1, 1, 1, 3, 1, 1, 1, 4, 1, 1, 5, 5, 1, 1, 1, 1, 1, 2, 1, 1, 4, 1, 1, 3, 1, 1, 1, 1, 1, 1, 1, 1, 2, 1, 1, 3, 3, 1, 2, 3, 2, 6, 1, 1, 1, 1, 1, 1, 1, 1, 2, 2, 1, 1, 1, 1, 1, 2, 1, 3, 1, 2, 6, 3, 1, 1, 1, 2, 2, 1, 1, 2, 1, 1, 2, 1, 1, 9, 1, 1, 2, 1, 2, 2, 3, 1, 4, 1, 1, 1, 4, 1, 5, 1, 1, 1, 2, 1, 1, 1, 3, 1, 2, 1, 1, 1, 1, 2, 1, 1, 2, 1, 1, 1, 1, 2, 2, 1, 2, 1, 2, 1, 1, 1, 1, 1, 1, 1, 3, 3, 1, 1, 1, 1, 1, 1, 1, 1, 1, 1, 1, 1, 1, 1, 1, 1, 1, 2, 1, 2, 1, 2, 1, 2, 2, 4, 2, 2, 3, 1, 2, 2, 1, 2, 2, 1, 1, 2, 1, 1, 1, 2, 2, 3, 1, 1, 1, 5, 1, 1, 1, 1, 1, 2, 1, 2, 1, 1, 1, 4, 1, 10, 1, 1, 1, 1, 2, 1, 1, 1, 1, 2, 1, 2, 1, 2, 2, 2, 2, 4, 1, 1, 2, 3, 1, 1, 1, 1, 1, 1, 1, 1, 1, 1, 1, 1, 1, 1, 2, 1, 1, 1, 1, 2, 1, 1, 1, 4, 2, 1, 1, 1, 1, 1, 1, 1, 1, 2, 1, 2, 2, 2, 5, 2, 2, 1, 2, 1, 1, 1, 4, 3, 1, 1, 1, 1, 2, 2, 2, 1, 1, 1, 2, 1, 1, 1, 1, 1, 1, 2, 1, 1, 1, 1, 1, 3, 1, 1, 1, 2, 1, 2, 1, 2, 1, 1, 2, 2, 1, 1, 1, 1, 1, 1, 1, 1, 1, 2, 4, 1, 4, 1, 4, 1, 1, 1, 4, 4, 7, 4, 1, 1, 1, 5, 1, 1, 2, 1, 1, 1, 2, 2, 1, 5, 1, 1, 1, 1, 1, 1, 1, 2, 2, 1, 1, 2, 1, 4, 1, 2, 1, 1, 1, 2, 2, 1, 1, 2, 1, 1, 3, 1, 3, 2, 1, 1, 1, 1, 2, 2, 1, 1, 1, 1, 2, 1, 2, 1, 1, 1, 1, 3, 1, 2, 1, 1, 1, 2, 3, 2, 4, 1, 1, 1, 3, 1, 1, 1, 1, 2, 11, 2, 4, 1, 1, 1, 1, 1, 2, 1, 2, 1, 3, 1, 1, 3, 1, 2, 1, 8, 1, 1, 2, 1, 1, 1, 1, 1, 1, 1, 1, 1, 1, 1, 1, 2, 1, 1, 1, 1, 1, 1, 1, 1, 1, 1, 1, 1, 1, 1, 3, 2, 1, 1, 1, 1, 1, 1, 1, 1, 1, 1, 1, 1, 1, 1, 2, 1, 1, 1, 1, 1, 2, 1, 1, 1, 4, 1, 1, 1, 1, 1, 1, 1, 1, 2, 1, 1, 1, 1, 1, 1, 1, 3, 1, 1, 1, 1, 1, 1, 3, 1, 2, 1, 1, 1, 1, 3, 1, 1, 1, 1, 1, 1, 2, 1, 1, 2, 1, 2, 1, 1, 1, 7, 1, 1, 2, 2, 1, 1, 1, 1, 1, 1, 3, 1, 3, 1, 1, 1, 1, 4, 4, 3, 1, 1, 1, 1, 1, 3, 1, 5, 2, 2, 1, 1, 1, 1, 1, 1, 1, 1, 1, 1, 1, 2, 1, 2, 1, 1, 1, 3, 11, 1, 1, 1, 1, 1, 1, 1, 3, 1, 1, 4, 2, 1, 1, 1, 4, 1, 1, 1, 1, 1, 4, 1, 1, 2, 7, 1, 3, 2, 1, 1, 1, 1, 2, 1, 1, 2, 1, 1, 2, 1, 2, 1, 3, 1, 1, 1, 1, 1, 3, 2, 4, 1, 1, 1, 1, 1, 1, 1, 1, 1, 1, 1, 1, 1, 1, 1, 2, 1, 1, 1, 1, 1, 1, 1, 1, 1, 1, 1, 1, 1, 1, 1, 1, 1, 1, 1, 2, 2, 1, 3, 1, 2, 1, 1, 1, 1, 1, 1, 9, 2, 1, 1, 1, 1, 1, 1, 1, 1, 2, 1, 1, 1, 1, 3, 1, 1, 2, 1, 1, 1, 3, 1, 1, 4, 2, 2, 1, 1, 1, 1, 2, 1, 2, 1, 1, 1, 1, 1, 1, 1, 1, 2, 2, 1, 1, 3, 2, 2, 1, 2, 2, 1, 1, 2, 6, 3, 2, 4, 3, 2, 1, 1, 9, 2, 1, 1, 1, 1, 1, 6, 1, 1, 1, 1, 1, 2, 1, 1, 4, 2, 1, 2, 1, 1, 4, 4, 2, 4, 1, 2, 1, 1, 2, 1, 4, 1, 1, 1, 1, 3, 1, 2, 2, 2, 1, 1, 1, 3, 2, 1, 1, 1, 6, 1, 2, 2, 2, 2, 3, 1, 1, 1, 1, 3, 1, 4, 1, 1, 1, 1, 5, 1, 3, 1, 1, 7, 1, 1, 1, 4, 1, 1, 1, 4, 3, 1, 6, 1, 1, 1, 2, 1, 1, 1, 2, 2, 1, 1, 1, 2, 1, 1, 1, 1, 4, 2, 1, 1, 5, 2, 2, 1, 1, 1, 1, 1, 1, 1, 1, 1, 1, 1, 1, 3, 1, 3, 2, 1, 1, 1, 1, 1, 4, 1, 1, 1, 1, 1, 4, 2, 1, 1, 1, 1, 1, 1, 1, 1, 1, 3, 1, 1, 3, 1, 1, 1, 2, 3, 1, 2, 1, 1, 2, 4, 1, 1, 1, 3, 3, 1, 1, 1, 2, 1, 2, 1, 1, 4, 1, 3, 1, 1, 2, 2, 2, 1, 1, 1, 1, 1, 4, 1, 1, 1, 3, 1, 1, 1, 2, 1, 2, 1, 1, 1, 2, 2, 1, 2, 2, 2, 1, 1, 1, 1, 1, 1, 3, 2, 2, 2, 1, 1, 1, 1, 3, 1, 3, 4, 3, 1, 1, 1, 1, 1, 1, 2, 2, 2, 2, 4, 5, 2, 1, 1, 1, 1, 1, 1, 1, 2, 10, 1, 1, 1, 1, 1, 1, 6, 1, 1, 1, 1, 2, 1, 3, 1, 1, 1, 1, 1, 1, 1, 1, 1, 1, 1, 1, 1, 2, 2, 3, 8, 2, 4, 1, 1, 2, 2, 2, 3, 1, 1, 1, 1, 1, 1, 1, 2, 1, 1, 1, 1, 1, 1, 1, 2, 1, 1, 1, 2, 1, 1, 2, 3, 1, 1, 1, 1, 1, 1, 1, 1, 1, 1, 1, 1, 1, 1, 1, 1, 1, 2, 1, 2, 2, 1, 1, 1, 1, 2, 5, 1, 2, 1, 1, 1, 1, 2, 1, 1, 1, 1, 3, 2, 5, 2, 1, 1, 4, 1, 2, 2, 2, 1, 1, 2, 2, 1, 1, 2, 1, 1, 8, 1, 1, 1, 3, 1, 2, 1, 2, 1, 1, 1, 1, 3, 1, 1, 1, 2, 1, 2, 1, 1, 2, 3, 1, 1, 1, 1, 3, 1, 2, 1, 1, 1, 1, 1, 1, 1, 1, 1, 2, 1, 1, 1, 2, 1, 3, 1, 6, 3, 1, 1, 1, 1, 1, 1, 1, 1, 1, 1, 1, 1, 1, 1, 1, 2, 1, 1, 3, 1, 2, 2, 2, 3, 2, 1, 1, 3, 1, 1, 2, 1, 1, 1, 1, 1, 1, 1, 3, 1, 1, 1, 2, 1, 1, 1, 1, 1, 1, 2, 1, 2, 3, 1, 1, 2, 4, 4, 1, 3, 1, 1, 1, 1, 1, 1, 1, 3, 1, 1, 1, 1, 3, 4, 8, 3, 1, 1, 2, 3, 1, 2, 2, 2, 2, 8, 1, 1, 1, 2, 1, 3, 1, 1, 1, 1, 1, 1, 1, 2, 1, 1, 1, 1, 1, 1, 1, 1, 1, 1, 1, 1, 1, 5, 4, 2, 1, 1, 1, 1, 2, 2, 1, 1, 1, 2, 1, 1, 1, 2, 3, 3, 1, 1, 1, 4, 2, 1, 3, 2, 1, 1, 3, 1, 3, 1, 1, 1, 1, 1, 1, 1, 2, 2, 5, 1, 2, 1, 1, 1, 2, 2, 3, 1, 3, 3, 1, 3, 1, 1, 1, 1, 4, 2, 3, 1, 1, 1, 1, 1, 1, 2, 1, 1, 2, 2, 5, 1, 4, 1, 1, 2, 1, 1, 2, 2, 2, 1, 1, 3, 1, 1, 1, 2, 1, 1, 1, 1, 1, 1, 1, 1, 1, 2, 1, 6, 3, 1, 1, 1, 3, 2, 1, 1, 3, 2, 1, 1, 1, 1, 1, 3, 1, 1, 2, 1, 1, 2, 1, 1, 1, 1, 1, 1, 1, 1, 1, 1, 1, 2, 1, 7, 1, 1, 1, 1, 2, 1, 2, 1, 1, 1, 1, 1, 10, 1, 1, 1, 1, 1, 2, 1, 1, 2, 1, 1, 2, 2, 1, 1, 1, 1, 3, 1, 1, 2, 1, 1, 1, 1, 1, 1, 1, 1, 1, 1, 1, 1, 1, 1, 1, 4, 3, 1, 1, 1, 3, 4, 1, 1, 4, 1, 1, 1, 1, 1, 1, 3, 1, 1, 2, 1, 2, 3, 1, 2, 2, 1, 1, 1, 2, 3, 1, 1, 1, 1, 1, 1, 3, 7, 2, 2, 1, 1, 1, 1, 1, 1, 1, 2, 1, 1, 3, 1, 1, 1, 1, 1, 1, 2, 2, 1, 1, 3, 2, 1, 1, 1, 1, 1, 1, 1, 1, 1, 1, 4, 1, 1, 1, 1, 1, 1, 1, 1, 1, 1, 1, 1, 1, 3, 1, 1, 1, 1, 3, 1, 1, 1, 1, 3, 1, 1, 1, 1, 1, 1, 1, 1, 3, 1, 3, 1, 1, 1, 1, 3, 1, 1, 1, 1, 5, 1, 1, 3, 1, 1, 1, 1, 1, 1, 1, 2, 1, 1, 2, 1, 1, 1, 2, 1, 4, 2, 1, 1, 1, 1, 1, 2, 1, 1, 1, 10, 1, 1, 2, 1, 1, 1, 2, 2, 2, 2, 1, 1, 2, 1, 1, 1, 1, 1, 1, 1, 3, 2, 1, 3, 7, 2, 1, 1, 1, 1, 1, 1, 1, 2, 1, 2, 3, 2, 2, 2, 1, 1, 1, 1, 1, 1, 1, 3, 1, 1, 6, 1, 1, 3, 1, 1, 1, 1, 1, 1, 1, 1, 1, 1, 4, 1, 1, 1, 1, 1, 1, 1, 1, 1, 1, 2, 2, 1, 1, 3, 1, 1, 1, 1, 1, 1, 1, 1, 1, 3, 1, 1, 1, 3, 1, 1, 1, 1, 11, 2, 1, 1, 2, 1, 1, 1, 3, 6, 1, 2, 2, 1, 1, 2, 1, 1, 1, 2, 1, 1, 4, 1, 1, 1, 1, 1, 1, 3, 1, 1, 1, 1, 1, 1, 1, 1, 1, 1, 1, 1, 3, 1, 1, 1, 1, 1, 1, 1, 1, 1, 4, 13, 2, 2, 1, 1, 1, 1, 1, 1, 1, 3, 1, 3, 1, 1, 1, 1, 1, 1, 1, 4, 3, 1, 3, 5, 3, 1, 1, 1, 2, 4, 1, 1, 1, 1, 6, 1, 1, 1, 1, 1, 1, 1, 1, 1, 1, 1, 1, 1, 1, 5, 1, 2, 1, 2, 2, 1, 1, 1, 1, 1, 1, 3, 3, 1, 1, 1, 1, 2, 1, 1, 1, 1, 1, 1, 1, 1, 1, 2, 2, 1, 1, 1, 1, 6, 1, 1, 2, 1, 1, 1, 1, 1, 2, 1, 1, 1, 1, 2, 1, 1, 1, 1, 2, 1, 1, 2, 1, 1, 1, 1, 1, 1, 1, 1, 1, 2, 2, 1, 1, 2, 1, 1, 1, 3, 2, 2, 1, 1, 1, 1, 1, 1, 1, 2, 1, 1, 2, 3, 1, 1, 1, 1, 1, 1, 1, 6, 1, 1, 1, 1, 1, 1, 2, 1, 1, 1, 2, 1, 2, 1, 2, 1, 1, 1, 1, 1, 1, 1, 2, 1, 1, 1, 4, 1, 2, 1, 1, 1, 1, 1, 2, 1, 1, 1, 2, 1, 1, 2, 1, 1, 5, 1, 1, 1, 5, 1, 1, 3, 1, 1, 1, 1, 1, 1, 1, 1, 1, 1, 3, 1, 1, 1, 1, 1, 2, 4, 1, 1, 1, 1, 1, 1, 1, 1, 3, 2, 1, 1, 1, 1, 1, 2, 1, 1, 1, 1, 1, 1, 1, 1, 1, 7, 1, 1, 1, 1, 1, 1, 1, 3, 1, 2, 1, 1, 3, 1, 1, 2, 1, 1, 3, 1, 3, 1, 1, 1, 1, 1, 1, 2, 1, 1, 1, 1, 2, 1, 1, 1, 1, 1, 3, 1, 1, 1, 1, 3, 2, 1, 1, 2, 1, 1, 2, 1, 1, 1, 1, 1, 1, 2, 1, 1, 1, 1, 1, 1, 1, 1, 2, 1, 3, 1, 2, 2, 2, 1, 1, 1, 1, 1, 2, 1, 3, 1, 1, 1, 1, 2, 2, 3, 1, 2, 1, 1, 1, 1, 1, 1, 1, 1, 1, 1, 1, 1, 1, 1, 1, 1, 2, 3, 2, 1, 1, 1, 1, 1, 2, 1, 3, 1, 1, 1, 1, 1, 2, 1, 1, 1, 1, 1, 1, 1, 4, 1, 3, 1, 1, 1, 1, 2, 1, 1, 4, 1, 1, 2, 1, 1, 1, 1, 1, 1, 1, 1, 1, 1, 4, 1, 1, 4, 2, 2, 1, 1, 1, 1, 1, 1, 1, 1, 1, 1, 1, 4, 1, 1, 6, 1, 1, 1, 1, 1, 1, 2, 1, 1, 1, 1, 1, 2, 2, 1, 1, 1, 1, 1, 1, 1, 5, 1, 1, 2, 2, 2, 1, 1, 1, 1, 1, 3, 5, 3, 1, 1, 1, 1, 1, 1, 5, 2, 1, 1, 2, 1, 1, 1, 1, 3, 1, 1, 1, 1, 3, 4, 1, 2, 1, 1, 1, 2, 1, 1, 1, 1, 1, 1, 1, 2, 1, 1, 1, 1, 1, 1, 1, 1, 1, 1, 2, 7, 2, 2, 2, 1, 1, 2, 1, 2, 1, 1, 1, 1, 1, 1, 1, 1, 2, 4, 1, 2, 1, 1, 1, 1, 2, 1, 1, 1, 2, 1, 1, 1, 1, 2, 2, 1, 1, 1, 1, 1, 1, 1, 1, 2, 3, 1, 1, 1, 1, 1, 1, 1, 1, 1, 1, 1, 2, 2, 2, 1, 1, 1, 1, 1, 1, 1, 1, 1, 1, 1, 1, 1, 1, 1, 1, 6, 1, 1, 3, 1, 1, 2, 2, 2, 2, 3, 1, 2, 2, 1, 2, 2, 2, 1, 1, 1, 1, 1, 1, 2, 1, 1, 1, 2, 1, 1, 1, 1, 1, 1, 1, 2, 1, 1, 1, 7, 1, 1, 1, 2, 1, 2, 2, 3, 1, 1, 2, 1, 4, 1, 1, 1, 1, 1, 2, 1, 1, 3, 1, 1, 1, 2, 1, 1, 1, 1, 2, 6, 2, 1, 2, 1, 2, 8, 2, 1, 4, 2, 1, 3, 1, 1, 1, 1, 1, 1, 1, 2, 1, 1, 1, 1, 1, 4, 2, 3, 1, 1, 1, 1, 1, 1, 1, 1, 1, 1, 2, 1, 2, 1, 1, 1, 1, 1, 1, 2, 1, 2, 1, 1, 1, 2, 1, 4, 2, 2, 2, 3, 2, 2, 2, 3, 2, 1, 4, 1, 2, 1, 1, 1, 1, 2, 1, 1, 3, 2, 2, 2, 2, 2, 3, 4, 1, 1, 1, 1, 1, 1, 1, 1, 1, 2, 1, 1, 1, 1, 1, 1, 1, 5, 1, 2, 1, 1, 1, 1, 1, 2, 1, 1, 1, 1, 1, 1, 1, 1, 1, 1, 1, 1, 2, 1, 1, 1, 1, 2, 1, 2, 1, 1, 1, 1, 2, 1, 2, 1, 1, 1, 1, 1, 1, 1, 1, 1, 1, 1, 1, 1, 3, 1, 1, 5, 2, 2, 2, 3, 1, 3, 1, 1, 1, 1, 1, 1, 2, 2, 1, 1, 1, 1, 1, 1, 1, 2, 2, 1, 1, 1, 4, 1, 1, 1, 1, 1, 1, 3, 2, 1, 1, 1, 3, 5, 1, 1, 2, 1, 1, 1, 1, 2, 1, 1, 1, 3, 1, 2, 1, 1, 1, 1, 1, 1, 1, 1, 1, 1, 1, 1, 1, 1, 4, 1, 1, 1, 1, 1, 4, 1, 1, 2, 1, 2, 1, 5, 1, 1, 1, 2, 3, 1, 1, 2, 1, 1, 1, 1, 1, 1, 1, 2, 2, 1, 1, 1, 1, 1, 2, 1, 2, 1, 1, 1, 4, 1, 1, 1, 1, 1, 1, 3, 1, 1, 1, 1, 1, 1, 3, 1, 1, 3, 1, 1, 3, 2, 1, 3, 2, 1, 1, 1, 4, 2, 2, 1, 1, 2, 1, 1, 1, 1, 1, 1, 1, 2, 4, 1, 1, 3, 1, 1, 1, 1, 1, 3, 1, 1, 1, 1, 1, 1, 5, 1, 1, 1, 1, 1, 1, 1, 1, 1, 1, 1, 1, 1, 2, 1, 1, 3, 2, 1, 1, 1, 1, 1, 1, 1, 2, 1, 2, 1, 4, 1, 1, 1, 2, 1, 2, 1, 1, 1, 1, 1, 1, 1, 5, 1, 1, 1, 1, 1, 2, 1, 3, 2, 1, 1, 1, 1, 1, 1, 1, 1, 1, 1, 1, 2, 1, 2, 1, 1, 2, 1, 1, 2, 1, 1, 1, 2, 1, 1, 1, 1, 3, 1, 2, 1, 1, 1, 1, 1, 2, 4, 1, 1, 1, 1, 1, 1, 1, 1, 2, 2, 1, 1, 1, 1, 1, 1, 1, 2, 1, 1, 1, 2, 1, 1, 1, 1, 1, 1, 3, 3, 1, 1, 2, 2, 2, 1, 1, 1, 1, 1, 1, 1, 3, 1, 3, 1, 1, 1, 1, 2, 2, 1, 3, 1, 1, 1, 1, 1, 1, 1, 1, 1, 1, 1, 1, 1, 3, 3, 1, 1, 1, 1, 1, 2, 1, 1, 1, 2, 1, 1, 1, 1, 1, 1, 1, 5, 3, 1, 1, 2, 1, 1, 1, 1, 4, 1, 7, 1, 1, 1, 2, 1, 1, 2, 1, 1, 1, 1, 1, 1, 1, 1, 1, 1, 1, 1, 7, 1, 1, 1, 1, 1, 1, 1, 2, 3, 1, 1, 1, 1, 1, 3, 1, 3, 1, 2, 1, 1, 1, 1, 1, 5, 1, 1, 1, 1, 1, 1, 1, 1, 5, 1, 1, 1, 1, 1, 1, 1, 1, 1, 1, 1, 2, 1, 1, 1, 5, 1, 1, 3, 1, 1, 1, 1, 1, 1, 1, 1, 1, 1, 1, 1, 1, 4, 2, 2, 1, 1, 1, 1, 2, 1, 1, 1, 1, 2, 3, 1, 1, 1, 2, 2, 1, 1, 2, 1, 1, 1, 2, 5, 1, 1, 1, 1, 1, 1, 2, 1, 1, 1, 1, 1, 1, 1, 1, 1, 2, 1, 1, 1, 1, 1, 1, 2, 1, 1, 2, 1, 1, 1, 1, 3, 2, 1, 1, 1, 1, 1, 1, 5, 1, 1, 1, 1, 1, 1, 3, 1, 1, 2, 1, 1, 3, 1, 1, 1, 1, 1, 1, 3, 1, 3, 1, 1, 1, 1, 1, 1, 1, 3, 1, 1, 1, 1, 1, 2, 2, 2, 1, 1, 1, 1, 2, 1, 6, 1, 1, 1, 1, 3, 2, 1, 1, 1, 1, 1, 1, 3, 1, 1, 1, 1, 1, 1, 2, 1, 1, 1, 1, 1, 1, 1, 1, 1, 3, 1, 2, 3, 2, 2, 1, 2, 1, 1, 1, 1, 1, 2, 1, 1, 1, 1, 1, 1, 3, 2, 4, 2, 1, 4, 1, 1, 1, 1, 1, 1, 4, 1, 1, 1, 1, 1, 2, 3, 1, 1, 1, 2, 2, 1, 1, 1, 1, 1, 1, 1, 1, 1, 1, 1, 1, 1, 1, 1, 1, 1, 1, 1, 1, 1, 1, 1, 1, 1, 1, 1, 2, 1, 1, 3, 1, 1, 2, 1, 2, 1, 1, 1, 1, 2, 1, 3, 1, 1, 1, 1, 2, 1, 1, 1, 1, 1, 1, 1, 1, 1, 1, 3, 1, 2, 1, 1, 1, 1, 1, 3, 1, 1, 1, 2, 1, 1, 1, 1, 1, 1, 1, 1, 1, 2, 1, 1, 1, 2, 2, 1, 1, 1, 1, 1, 1, 1, 1, 1, 1, 2, 1, 1, 1, 2, 1, 1, 1, 1, 1, 4, 1, 2, 1, 2, 1, 1, 1, 1, 1, 1, 1, 1, 1, 3, 1, 1, 1, 1, 1, 1, 1, 1, 1, 1, 1, 1, 2, 1, 1, 1, 2, 1, 1, 1, 1, 1, 1, 1, 3, 1, 1, 1, 1, 1, 1, 1, 1, 1, 4, 2, 1, 1, 1, 1, 1, 1, 2, 2, 2, 2, 1, 1, 1, 1, 1, 1, 1, 2, 1, 2, 1, 1, 1, 1, 1, 1, 1, 1, 1, 2, 1, 1, 1, 2, 1, 1, 1, 1, 1, 1, 1, 1, 2, 1, 1, 2, 2, 1, 1, 2, 1, 1, 1, 1, 1, 1, 1, 1, 1, 1, 2, 1, 1, 1, 1, 1, 1, 1, 1, 1, 1, 1, 1, 1, 2, 2, 1, 1, 1, 1, 1, 1, 1, 1, 1, 1, 2, 1, 1, 2, 4, 1, 1, 2, 1, 1, 1, 1, 2, 2, 1, 1, 1, 1, 1, 1, 1, 1, 1, 1, 2, 1, 1, 1, 1, 1, 1, 1, 2, 1, 1, 1, 1, 1, 1, 1, 1, 1, 1, 1, 1, 1, 1, 1, 1, 2, 1, 3, 1, 1, 2, 1, 1, 2, 1, 1, 1, 1, 2, 1, 1, 1, 1, 1, 1, 1, 1, 1, 1, 1, 1, 1, 1, 1, 1, 1, 1, 1, 1, 1, 1, 1, 1, 2, 2, 1, 1, 1, 1, 1, 1, 1, 1, 1, 3, 1, 1, 1, 1, 2, 2, 1, 1, 1, 1, 1, 1, 1, 2, 1, 1, 1, 1, 1, 1, 2, 4, 1, 1, 4, 1, 1, 1, 4, 2, 1, 1, 1, 1, 1, 3, 1, 1, 1, 1, 1, 1, 1, 1, 1, 1, 1, 1, 1, 1, 1, 1, 6, 1, 1, 1, 1, 3, 1, 2, 4, 2, 1, 2, 1, 2, 1, 1, 1, 1, 1, 1, 1, 2, 2, 1, 1, 1, 3, 1, 1, 2, 1, 1, 1, 2, 2, 1, 1, 2, 4, 1, 4, 1, 1, 1, 2, 1, 2, 4, 1, 1, 1, 1, 1, 1, 1, 1, 1, 1, 2, 1, 1, 1, 2, 1, 1, 1, 1, 1, 1, 1, 1, 1, 1, 1, 1, 1, 1, 1, 1, 1, 2, 1, 1, 1, 1, 1, 1, 1, 2, 1, 1, 1, 1, 1, 1, 3, 1, 2, 1, 1, 1, 1, 2, 1, 2, 1, 1, 1, 1, 1, 1, 1, 3, 1, 1, 1, 1, 1, 5, 1, 1, 1, 1, 5, 1, 2, 4, 2, 1, 1, 1, 1, 1, 1, 4, 1, 1, 2, 1, 1, 1, 1, 1, 1, 1, 1, 1, 1, 1, 2, 1, 1, 1, 1, 1, 1, 1, 1, 1, 1, 1, 1, 1, 1, 1, 1, 1, 1, 1, 1, 1, 1, 1, 1, 1, 1, 1, 1, 3, 1, 3, 1, 2, 1, 1, 1, 3, 1, 1, 1, 1, 3, 2, 1, 1, 2, 1, 1, 1, 1, 2, 2, 1, 3, 1, 1, 1, 1, 1, 1, 1, 1, 1, 1, 1, 2, 1, 2, 1, 1, 1, 1, 1, 1, 1, 1, 1, 1, 1, 1, 1, 1, 1, 1, 1, 1, 1, 1, 1, 6, 1, 1, 1, 1, 1, 1, 1, 1, 1, 1, 1, 1, 1, 1, 1, 3, 2, 1, 1, 1, 3, 1, 1, 1, 1, 1, 1, 1, 1, 1, 2, 1, 1, 1, 1, 1, 2, 2, 2, 2, 1, 1, 1, 1, 1, 1, 1, 1, 1, 1, 1, 3, 1, 1, 2, 1, 1, 1, 4, 2, 1, 1, 1, 1, 1, 2, 1, 1, 1, 1, 1, 1, 3, 2, 1, 1, 2, 1, 1, 1, 1, 1, 1, 1, 1, 2, 1, 1, 1, 1, 1, 1, 1, 1, 1, 1, 1, 1, 1, 2, 1, 2, 1, 1, 1, 1, 3, 1, 1, 1, 1, 1, 1, 1, 1, 1, 1, 1, 2, 1, 3, 1, 2, 1, 3, 1, 1, 1, 2, 1, 1, 1, 1, 1, 1, 1, 1, 1, 1, 2, 1, 1, 1, 1, 1, 2, 1, 2, 1, 1, 1, 1, 1, 1, 1, 1, 1, 1, 1, 1, 1, 1, 1, 1, 3, 1, 1, 1, 1, 1, 1, 1, 3, 1, 1, 1, 1, 1, 1, 1, 1, 1, 1, 1, 1, 1, 3, 1, 1, 1, 1, 1, 1, 1, 3, 1, 1, 1, 1, 1, 1, 1, 1, 1, 1, 1, 1, 1, 1, 1, 2, 1, 1, 1, 1, 1, 1, 1, 1, 1, 1, 1, 1, 1, 1, 1, 1, 1, 1, 1, 1, 1, 1, 1, 1, 1, 1, 1, 1, 1, 1, 1, 1, 1, 1, 3, 1, 1, 3, 1, 1, 2, 1, 1, 1, 1, 1, 2, 1, 1, 1, 1, 1, 1, 1, 1, 1, 1, 1, 1, 1, 1, 1, 2, 1, 1, 1, 1, 1, 1, 1, 1, 1, 1, 1, 1, 1, 3, 1, 1, 1, 1, 1, 2, 1, 1, 1, 2, 1, 2, 1, 2, 1, 1, 1, 1, 2, 3, 1, 1, 1, 1, 1, 2, 2, 4, 1, 1, 1, 1, 1, 1, 1, 1, 1, 1, 1, 1, 1, 1, 2, 1, 1, 1, 1, 1, 2, 1, 1, 1, 2, 1, 1, 2, 2, 1, 3, 2, 1, 2, 1, 1, 1, 2, 1, 1, 1, 1, 1, 2, 1, 1, 1, 1, 2, 2, 2, 2, 1, 4, 2, 1, 2, 2, 1, 1, 1, 1, 1, 3, 1, 1, 1, 1, 1, 1, 3, 1, 1, 1, 1, 1, 1, 2, 1, 1, 1, 1, 1, 2, 1, 3, 1, 1, 2, 1, 1, 1, 1, 4, 2, 2, 1, 1, 1, 1, 2, 1, 1, 1, 2, 1, 2, 1, 1, 1, 1, 1, 1, 1, 2, 1, 2, 1, 1, 1, 1, 1, 1, 1, 1, 1, 1, 1, 1, 1, 1, 3, 3, 2, 1, 1, 1, 1, 1, 1, 3, 1, 1, 1, 2, 2, 3, 1, 1, 1, 1, 1, 1, 1, 1, 1, 1, 3, 1, 1, 3, 2, 1, 1, 1, 1, 1, 1, 2, 2, 1, 2, 1, 1, 1, 1, 1, 1, 1, 1, 1, 1, 2, 1, 1, 3, 1, 1, 1, 1, 1, 1, 1, 1, 1, 1, 1, 1, 1, 1, 1, 1, 1, 1, 1, 1, 1, 1, 1, 1, 1, 1, 1, 1, 2, 1, 1, 1, 2, 1, 2, 2, 1, 1, 1, 1, 1, 1, 1, 2, 1, 1, 1, 1, 1, 1, 1, 1, 1, 2, 1, 1, 1, 1, 1, 1, 1, 1, 1, 1, 1, 1, 2, 1, 1, 1, 1, 1, 1, 2, 2, 2, 2, 1, 1, 4, 2, 1, 1, 1, 1, 1, 1, 1, 1, 1, 1, 1, 1, 1, 1, 1, 1, 1, 1, 1, 1, 1, 1, 1, 1, 1, 1, 2, 2, 1, 1, 1, 1, 1, 1, 1, 3, 1, 1, 1, 1, 1, 1, 1, 1, 1, 1, 1, 1, 2, 2, 2, 2, 1, 1, 1, 1, 1, 1, 1, 1, 3, 1, 1, 1, 1, 1, 3, 1, 2, 1, 1, 1, 1, 1, 1, 1, 1, 1, 1, 1, 2, 1, 1, 1, 1, 2, 1, 1, 1, 1, 1, 1, 1, 2, 1, 2, 1, 1, 2, 1, 1, 1, 1, 1, 1, 1, 2, 1, 1, 1, 1, 3, 1, 1, 1, 1, 1, 3, 2, 1, 1, 1, 1, 1, 1, 1, 1, 1, 1, 1, 1, 1, 1, 1, 2, 1, 1, 2, 1, 1, 1, 2, 1, 1, 1, 1, 3, 1, 1, 1, 1, 1, 1, 2, 1, 1, 2, 1, 1, 1, 1, 1, 1, 1, 3, 1, 1, 1, 1, 1, 1, 1, 1, 1, 1, 1, 1, 1, 1, 1, 1, 1, 1, 1, 2, 1, 1, 1, 2, 1, 1, 1, 2, 1, 1, 1, 3, 1, 1, 1, 1, 1, 1, 1, 1, 1, 1, 2, 1, 1, 4, 2, 1, 5, 1, 1, 1, 1, 1, 1, 1, 1, 1, 2, 2, 1, 1, 1, 1, 3, 1, 1, 2, 1, 1, 1, 1, 1, 2, 2, 2, 2, 2, 1, 1, 1, 1, 1, 1, 1, 1, 1, 1, 2, 1, 1, 1, 1, 1, 1, 1, 1, 1, 1, 1, 1, 1, 1, 1, 1, 1, 1, 7, 2, 1, 1, 1, 1, 1, 1, 1, 1, 1, 1, 1, 1, 1, 1, 1, 1, 1, 3, 1, 1, 1, 1, 1, 1, 3, 5, 1, 1, 1, 1, 3, 1, 1, 1, 1, 1, 1, 1, 1, 1, 1, 1, 1, 1, 2, 2, 2, 1, 1, 1, 1, 2, 1, 1, 3, 1, 1, 1, 1, 1, 1, 1, 2, 1, 1, 1, 1, 1, 1, 1, 1, 1, 1, 2, 1, 2, 1, 2, 1, 1, 1, 2, 1, 1, 1, 1, 1, 1, 1, 1, 2, 1, 3, 1, 1, 2, 1, 1, 2, 1, 1, 1, 1, 1, 1, 1, 1, 1, 1, 1, 2, 1, 1, 4, 2, 1, 1, 1, 1, 1, 1, 1, 1, 1, 1, 1, 1, 1, 1, 1, 1, 1, 1, 1, 1, 2, 1, 1, 3, 1, 1, 1, 1, 1, 1, 1, 1, 1, 2, 1, 1, 1, 1, 1, 1, 1, 1, 1, 1, 1, 1, 1, 1, 1, 1, 1, 1, 3, 1, 1, 1, 1, 1, 1, 1, 2, 2, 1, 1, 1, 3, 1, 1, 2, 1, 1, 1, 1, 1, 1, 2, 1, 1, 1, 1, 1, 1, 1, 1, 1, 1, 2, 1, 3, 2, 1, 1, 1, 1, 3, 1, 1, 1, 1, 2, 1, 1, 1, 1, 2, 1, 1, 1, 1, 1, 1, 3, 1, 1, 1, 1, 1, 1, 2, 2, 1, 2, 1, 1, 1, 1, 1, 1, 1, 1, 1, 1, 1, 1, 1, 2, 1, 1, 1, 2, 2, 1, 1, 1, 1, 1, 1, 1, 3, 1, 1, 1, 1, 2, 1, 1, 1, 1, 2, 1, 2, 1, 1, 1, 4, 1, 1, 1, 2, 1, 1, 1, 1, 1, 1, 1, 2, 1, 1, 1, 1, 1, 1, 1, 1, 1, 1, 1, 1, 3, 1, 1, 1, 1, 1, 1, 1, 1, 1, 1, 1, 1, 1, 1, 2, 2, 1, 3, 1, 1, 1, 1, 1, 1, 1, 1, 1, 1, 4, 1, 1, 2, 1, 2, 1, 1, 1, 1, 1, 1, 1, 1, 1, 1, 2, 1, 1, 1, 4, 2, 3, 2, 2, 2, 2, 2, 2, 1, 4, 2, 1, 1, 1, 1, 1, 2, 1, 3, 2, 1, 1, 1, 1, 1, 1, 1, 1, 1, 1, 2, 1, 1, 2, 1, 1, 1, 1, 1, 1, 1, 1, 1, 1, 1, 2, 1, 1, 3, 1, 1, 1, 2, 1, 1, 2, 1, 2, 1, 1, 1, 1, 1, 1, 1, 1, 1, 1, 1, 1, 1, 1, 1, 1, 1, 1, 1, 1, 1, 1, 1, 2, 5, 2, 2, 2, 2, 1, 1, 1, 1, 1, 1, 1, 1, 1, 1, 1, 1, 3, 1, 1, 1, 2, 2, 1, 1, 1, 1, 3, 2, 1, 1, 1, 1, 1, 1, 1, 1, 1, 3, 1, 1, 1, 1, 1, 1, 1, 1, 1, 1, 1, 1, 1, 1, 1, 1, 1, 6, 2, 2, 1, 1, 2, 1, 1, 1, 1, 1, 1, 1, 1, 1, 1, 1, 1, 1, 1, 1, 1, 2, 1, 1, 1, 1, 1, 1, 2, 1, 1, 1, 1, 1, 1, 1, 1, 1, 1, 2, 3, 2, 1, 1, 1, 2, 2, 1, 1, 1, 1, 1, 1, 1, 1, 1, 1, 2, 2, 1, 1, 1, 1, 1, 1, 1, 1, 1, 1, 1, 1, 1, 1, 1, 1, 1, 2, 1, 1, 1, 1, 1, 1, 1, 1, 1, 1, 1, 1, 4, 1, 1, 1, 1, 1, 1, 1, 1, 1, 1, 1, 1, 2, 1, 1, 1, 2, 1, 1, 1, 1, 2, 1, 1, 1, 1, 1, 2, 1, 1, 1, 1, 1, 1, 1, 1, 1, 1, 1, 1, 1, 1, 1, 1, 2, 1, 1, 1, 1, 1, 1, 1, 1, 1, 1, 1, 1, 1, 1, 1, 1, 1, 1, 1, 1, 1, 1, 1, 1, 1, 1, 1, 2, 1, 2, 1, 1, 1, 2, 3, 1, 1, 1, 1, 1, 1, 1, 1, 1, 1, 1, 1, 1, 1, 1, 1, 1, 1, 1, 1, 1, 1, 1, 1, 1, 1, 1, 1, 1, 1, 3, 1, 1, 2, 1, 1, 1, 1, 1, 1, 1, 1, 1, 1, 1, 1, 1, 1, 2, 1, 1, 1, 1, 1, 1, 1, 1, 1, 1, 2, 1, 1, 1, 1, 1, 1, 1, 1, 1, 1, 1, 1, 1, 1, 1, 1, 1, 1, 1, 2, 1, 1, 1, 1, 2, 1, 3, 1, 1, 4, 2, 1, 2, 1, 1, 1, 1, 1, 1, 1, 1, 1, 1, 1, 1, 1, 1, 1, 1, 1, 2, 1, 1, 1, 2, 1, 1, 1, 1, 1, 1, 1, 1, 1, 1, 1, 1, 1, 1, 1, 3, 1, 1, 1, 1, 1, 1, 1, 1, 1, 1, 1, 2, 1, 2, 1, 1, 1, 1, 1, 2, 1, 1, 1, 1, 1, 1, 2, 1, 2, 1, 1, 1, 1, 1, 1, 1, 1, 1, 1, 1, 1, 1, 1, 1, 2, 1, 1, 1, 1, 1, 1, 1, 1, 1, 1, 1, 1, 1, 1, 1, 1, 1, 1, 1, 1, 1, 1, 1, 2, 2, 4, 1, 1, 1, 1, 1, 1, 1, 1, 1, 1, 1, 1, 1, 1, 1, 1, 1, 1, 1, 1, 1, 1, 1, 1, 1, 1, 1, 1, 1, 1, 1, 1, 2, 1, 1, 3, 1, 1, 2, 1, 1, 1, 1, 1, 1, 1, 1, 1, 2, 1, 1, 1, 1, 1, 1, 1, 1, 1, 1, 2, 1, 1, 1, 1, 1, 1, 1, 2, 1, 2, 1, 1, 2, 1, 1, 1, 1, 1, 1, 2, 1, 1, 1, 1, 2, 1, 1, 1, 1, 1, 1, 1, 1, 1, 3, 1, 1, 1, 1, 1, 1, 1, 1, 1, 1, 1, 1, 1, 1, 1, 1, 1, 1, 1, 1, 1, 1, 1, 1, 2, 2, 1, 1, 2, 1, 1, 1, 1, 1, 1, 1, 1, 1, 1, 1, 1, 2, 1, 1, 1, 1, 1, 1, 1, 1, 1, 1, 1, 1, 1, 1, 2, 1, 1, 1, 1, 2, 1, 1, 1, 1, 2, 1, 1, 1, 1, 1, 1, 1, 1, 1, 2, 2, 1, 1, 1, 1, 1, 4, 1, 1, 1, 1, 1, 2, 1, 1, 1, 1, 1, 1, 1, 2, 1, 1, 1, 1, 1, 3, 1, 1, 1, 1, 1, 3, 1, 1, 1, 1, 1, 2, 1, 1, 1, 1, 1, 1, 1, 2, 1, 1, 1, 1, 1, 1, 1, 1, 2, 1, 2, 2, 1, 1, 1, 1, 1, 1, 1, 1, 1, 2, 1, 2, 1, 2, 1, 1, 1, 1, 1, 1, 1, 1, 1, 1, 1, 1, 2, 2, 1, 1, 1, 1, 1, 1, 1, 1, 1, 1, 1, 1, 1, 1, 1, 1, 1, 1, 1, 1, 1, 1, 1, 1, 1, 1, 2, 1, 1, 2, 1, 1, 3, 2, 1, 1, 1, 1, 1, 1, 1, 1, 1, 1, 1, 1, 1, 1, 1, 1, 1, 1, 1, 1, 1, 2, 1, 1, 1, 1, 2, 1, 1, 1, 1, 1, 1, 1, 2, 1, 1, 1, 1, 1, 1, 1, 1, 1, 1, 1, 1, 1, 1, 1, 1, 1, 2, 2, 2, 1, 1, 1, 1, 1, 1, 1, 2, 1, 1, 1, 2, 1, 1, 1, 2, 1, 1, 1, 1, 2, 1, 1, 1, 1, 1, 1, 1, 3, 2, 1, 1, 1, 1, 1, 1, 1, 1, 1, 1, 1, 1, 1, 1, 1, 3, 1, 1, 1, 1, 1, 3, 4, 2, 1, 1, 1, 1, 1, 1, 1, 1, 1, 1, 1, 1, 2, 1, 1, 1, 1, 1, 1, 1, 1, 1, 1, 1, 1, 1, 1, 1, 1, 1, 1, 1, 1, 1, 1, 1, 1, 1, 1, 1, 1, 1, 1, 1, 1, 1, 1, 1, 1, 1, 1, 1, 1, 1, 1, 1, 1, 1, 1, 1, 1, 1, 2, 1, 1, 1, 1, 1, 1, 1, 2, 1, 1, 1, 1, 1, 1, 1, 1, 1, 1, 1, 1, 1, 1, 1, 1, 1, 1, 1, 1, 1, 1, 1, 1, 1, 1, 2, 3, 1, 1, 1, 1, 1, 1, 1, 1, 1, 1, 1, 1, 1, 2, 1, 1, 1, 1, 1, 1, 1, 1, 1, 1, 1, 1, 1, 1, 1, 1, 1, 1, 1, 1, 1, 1, 2, 1, 1, 1, 1, 1, 1, 1, 1, 1, 1, 1, 1, 2, 1, 1, 1, 1, 1, 1, 1, 1, 1, 1, 1, 2, 1, 1, 1, 1, 1, 1, 1, 1, 1, 1, 1, 1, 1, 1, 1, 1, 1, 3, 1, 1, 1, 1, 1, 1, 1, 1, 1, 1, 1, 1, 1, 1, 1, 1, 1, 2, 1, 1, 1, 1, 2, 1, 1, 1, 1, 1, 1, 1, 2, 2, 2, 1, 1, 1, 1, 1, 1, 1, 1, 1, 1, 1, 1, 1, 1, 1, 1, 1, 1, 1, 2, 2, 1, 1, 1, 1, 1, 1, 1, 1, 1, 1, 1, 1, 1, 2, 1, 1, 1, 1, 2, 1, 2, 1, 1, 1, 1, 1, 1, 1, 1, 1, 1, 1, 1, 1, 1, 1, 1, 1, 1, 1, 1, 1, 2, 1, 1, 1, 1, 1, 1, 1, 1, 1, 1, 1, 1, 1, 1, 1, 1, 1, 1, 1, 1, 1, 1, 1, 1, 1, 1, 1, 1, 1, 1, 1, 2, 1, 1, 1, 1, 1, 1, 1, 2, 1, 1, 1, 1, 1, 1, 1, 1, 1, 1, 1, 1, 1, 1, 1, 2, 1, 1, 1, 2, 1, 1, 1, 1, 1, 1, 1, 2, 1, 1, 1, 1, 1, 1, 2, 1, 2, 1, 1, 1, 1, 1, 1, 1, 1, 1, 1, 1, 1, 1, 1, 2, 2, 1, 1, 1, 1, 1, 1, 1, 1, 1, 1, 1, 1, 1, 1, 1, 1, 1, 1, 1, 1, 1, 1, 1, 1, 1, 1, 1, 1, 1, 1, 1, 1, 1, 1, 1, 1, 1, 1, 1, 1, 1, 1, 2, 1, 1, 1, 2, 1, 1, 1, 1, 1, 1, 1, 1, 1, 1, 1, 1, 1, 1, 1, 2, 1, 1, 1, 1, 1, 1, 1, 1, 3, 2, 1, 1, 1, 1, 1, 1, 1, 1, 1, 1, 2, 1, 1, 1, 1, 1, 2, 1, 2, 1, 1, 1, 2, 2, 1, 1, 1, 2, 2, 1, 1, 1, 1, 1, 1, 1, 1, 1, 1, 1, 1, 1, 2, 1, 2, 1, 1, 1, 1, 1, 1, 1, 1, 1, 1, 1, 1, 1, 1, 1, 1, 1, 2, 1, 2, 1, 2, 1, 2, 1, 1, 1, 1, 1, 1, 3, 2, 1, 1, 1, 1, 1, 1, 1, 1, 1, 1, 1, 1, 1, 1, 1, 1, 1, 1, 1, 1, 1, 1, 1, 1, 1, 1, 1, 1, 1, 2, 1, 1, 1, 1, 1, 1, 1, 1, 2, 2, 2, 2, 1, 1, 1, 1, 1, 1, 1, 2, 1, 1, 3, 1, 1, 1, 1, 1, 1, 1, 1, 1, 1, 1, 1, 1, 1, 1, 1, 1, 1, 1, 1, 1, 2, 1, 1, 1, 1, 1, 1, 1, 2, 1, 1, 1, 1, 1, 1, 1, 1, 1, 1, 1, 1, 1, 1, 1, 1, 1, 1, 1, 1, 1, 1, 1, 1, 1, 1, 1, 1, 1, 1, 1, 1, 1, 1, 1, 1, 1, 1, 1, 1, 1, 1, 1, 1, 1, 1, 1, 1, 1, 1, 1, 1, 1, 1, 1, 1, 1, 1, 1, 1, 1, 1, 1, 1, 1, 1, 1, 1, 1, 1, 1, 2, 1, 1, 1, 1, 1, 1, 1, 1, 1, 1, 1, 1, 1, 1, 2, 1, 1, 1, 1, 1, 1, 1, 1, 1, 1, 1, 1, 3, 1, 1, 3, 1, 1, 2, 1, 1, 1, 1, 1, 1, 1, 1, 1, 1, 1, 1, 1, 1, 1, 2, 1, 1, 1, 1, 1, 1, 1, 1, 1, 3, 1, 2, 1, 2, 1, 1, 1, 1, 1, 1, 1, 1, 1, 1, 1, 1, 1, 1, 1, 1, 1, 1, 1, 1, 1, 1, 1, 3, 1, 1, 1, 1, 3, 1, 1, 1, 1, 1, 1, 1, 1, 1, 1, 1, 1, 1, 1, 1, 1, 1, 1, 1, 1, 3, 2, 2, 1, 1, 1, 1, 1, 1, 1, 1, 1, 1, 1, 1, 1, 1, 1, 1, 1, 1, 2, 1, 1, 2, 2, 2, 1, 1, 1, 1, 2, 1, 1, 1, 1, 1, 1, 2, 1, 1, 2, 1, 1, 1, 1, 1, 2, 1, 1, 1, 1, 2, 1, 2, 1, 1, 1, 1, 1, 1, 1, 3, 1, 1, 1, 1, 1, 1, 1, 1, 1, 1, 1, 1, 1, 1, 1, 1, 1, 1, 1, 1, 1, 1, 1, 1, 2, 2, 1, 1, 1, 1, 1, 1, 1, 2, 1, 2, 1, 1, 3, 1, 2, 1, 1, 1, 1, 1, 1, 1, 1, 1, 1, 1, 1, 1, 1, 1, 1, 1, 2, 1, 1, 1, 1, 1, 1, 1, 1, 1, 1, 1, 1, 1, 1, 2, 2, 1, 1, 1, 1, 1, 1, 1, 1, 1, 1, 1, 1, 1, 1, 2, 3, 1, 1, 1, 1, 1, 1, 1, 1, 1, 1, 1, 1, 2, 1, 1, 1, 1, 1, 1, 1, 3, 1, 1, 1, 2, 1, 1, 1, 1, 1, 1, 1, 2, 1, 1, 1, 1, 1, 1, 1, 1, 1, 1, 2, 2, 1, 1, 1, 1, 1, 2, 1, 1, 1, 1, 1, 1, 1, 1, 1, 2, 2, 1, 1, 1, 1, 1, 1, 1, 1, 1, 1, 1, 1, 1, 1, 1, 2, 1, 1, 1, 2, 1, 2, 2, 1, 1, 1, 1, 1, 1, 1, 1, 1, 1, 1, 1, 1, 1, 1, 1, 1, 1, 1, 1, 1, 1, 1, 1, 1, 1, 1, 1, 1, 1, 1, 1, 1, 1, 2, 1, 1, 1, 2, 1, 1, 1, 1, 1, 1, 1, 1, 1, 1, 1, 1, 1, 1, 1, 1, 1, 1, 1, 1, 1, 1, 1, 1, 1, 1, 1, 1, 1, 1, 1, 1, 1, 1, 1, 1, 1, 1, 1, 1, 1, 1, 1, 1, 1, 1, 1, 1, 1, 1, 1, 1, 3, 2, 1, 1, 1, 1, 1, 1, 1, 1, 2, 1, 1, 1, 1, 2, 1, 1, 1, 1, 1, 1, 1, 1, 1, 1, 1, 1, 1, 1, 1, 2, 3, 2, 1, 1, 1, 1, 1, 1, 1, 1, 1, 1, 1, 1, 1, 1, 1, 1, 1, 1, 1, 1, 1, 1, 1, 1, 1, 1, 1, 1, 1, 1, 1, 1, 1, 1, 1, 2, 1, 1, 1, 1, 1, 1, 1, 1, 1, 1, 1, 1, 1, 1, 1, 1, 1, 1, 2, 1, 1, 2, 1, 1, 1, 1, 1, 1, 1, 1, 1, 1, 1, 1, 2, 2, 1, 1, 1, 1, 1, 1, 1, 1, 1, 1, 1, 1, 1, 1, 1, 1, 1, 1, 2, 1, 1, 1, 1, 1, 1, 1, 1, 1, 1, 1, 1, 1, 1, 1, 1, 1, 1, 1, 1, 1, 1, 1, 1, 1, 1, 1, 1, 1, 1, 1, 1, 1, 1, 1, 1, 1, 1, 1, 1, 1, 1, 1, 1, 1, 1, 1, 1, 1, 1, 1, 1, 1, 1, 1, 1, 1, 1, 1, 1, 1, 1, 1, 1, 1, 1, 1, 1, 1, 1, 1, 1, 1, 1, 1, 1, 1, 1, 1, 1, 1, 1, 1, 1, 1, 1, 1, 1, 1, 1, 1, 1, 1, 1, 1, 1, 1, 1, 1, 1, 1, 1, 1, 1, 1, 1, 1, 2, 1, 1, 1, 1, 1, 1, 1, 1, 1, 1, 1, 1, 3, 1, 1, 1, 1, 1, 1, 2, 1, 1, 1, 1, 1, 1, 1, 1, 1, 1, 1, 1, 1, 1, 1, 1, 1, 1, 1, 1, 1, 1, 1, 1, 1, 1, 1, 1, 1, 1, 1, 1, 1, 1, 1, 1, 1, 1, 1, 1, 2, 1, 1, 1, 1, 1, 1, 1, 1, 2, 1, 1, 1, 1, 1, 1, 1, 1, 1, 1, 1, 1, 1, 1, 1, 1, 1, 1, 1, 1, 1, 1, 1, 1, 1, 1, 1, 1, 1, 1, 1, 1, 1, 1, 2, 2, 2, 2, 2, 2, 2, 1, 1, 1, 1, 1, 1, 1, 1, 1, 1, 1, 1, 1, 1, 1, 1, 1, 1, 1, 1, 1, 1, 1, 1, 1, 1, 1, 1, 1, 1, 1, 1, 1, 1, 1, 1, 1, 1, 1, 1, 1, 1, 1, 1, 1, 1, 1, 1, 1, 1, 1, 1, 1, 1, 1, 1, 1, 1, 1, 1, 1, 1, 1, 1, 1, 1, 1, 1, 1, 1, 1, 1, 1, 1, 1, 1, 1, 1, 1, 1, 1, 1, 1, 1, 1, 1, 1, 1, 2, 1, 1, 1, 1, 1, 1, 1, 1, 1, 1, 1, 1, 1, 1, 1, 1, 1, 1, 1, 1, 1, 1, 1, 1, 1, 1, 1, 1, 1, 1, 1, 1, 1, 1, 1, 1, 1, 1, 1, 1, 1, 2, 1, 1, 1, 1, 1, 1, 1, 1, 1, 1, 1, 2, 1, 1, 1, 1, 1, 1, 1, 1, 1, 1, 1, 1, 1, 1, 1, 1, 1, 1, 1, 1, 1, 1, 1, 1, 1, 1, 1, 1, 1, 1, 1, 1, 1, 1, 3, 1, 1, 1, 1, 1, 1, 1, 1, 1, 1, 1, 1, 1, 1, 1, 1, 1, 1, 1, 1, 1, 1, 1, 1, 1, 1, 1, 1, 1, 1, 1, 1, 1, 1, 1, 1, 1, 1, 1, 1, 1, 1, 1, 1, 1, 1, 1, 1, 1, 1, 1, 1, 1, 1, 1, 2, 1, 1, 1, 1, 1, 1, 1, 2, 1, 1, 1, 1, 1, 1, 1, 1, 1, 1, 1, 1, 1, 1, 1, 1, 1, 1, 1, 1, 1, 1, 1, 1, 1, 1, 1, 1, 1, 1, 1, 1, 1, 1, 1, 1, 1, 1, 1, 1, 1, 1, 1, 1, 1, 1, 1, 1, 1, 1, 1, 1, 1, 1, 1, 1, 1, 1, 1, 1, 1, 1, 1, 1, 2, 1, 1, 1, 1, 2, 1, 1, 1, 1, 1, 1, 1, 1, 1, 1, 1, 1, 1, 2, 1, 1, 2, 2, 2, 1, 1, 1, 1, 1, 1, 1, 1, 1, 1, 1, 1, 1, 1, 1, 1, 1, 1, 1, 1, 1, 1, 1, 1, 1, 1, 2, 1, 1, 1, 1, 1, 1, 1, 1, 1, 1, 1, 1, 1, 1, 1, 1, 1, 1, 1, 1, 1, 1, 1, 1, 1, 1, 1, 1, 1, 1, 1, 1, 1, 1, 1, 1, 1, 1, 1, 1, 1, 1, 1, 1, 1, 1, 1, 1, 1, 1, 1, 1, 1, 1, 1, 1, 1, 1, 1, 1, 1, 1, 1, 1, 1, 1, 1, 1, 1, 1, 1, 1, 1, 1, 1, 1, 1, 1, 1, 1, 1, 1, 1, 1, 1, 1, 1, 1, 1, 1, 1, 1, 1, 1, 1, 1, 1, 1, 1, 1, 1, 1, 1, 1, 1, 1, 1, 1, 1, 1, 1, 1, 1, 1, 1, 1, 1, 1, 1, 1, 1, 1, 1, 1, 1, 1, 1, 1, 1, 1, 1, 1, 1, 1, 1, 1, 1, 1, 1, 1, 1, 1, 1, 1, 1, 1, 1, 1, 1, 1, 1, 1, 1, 1, 1, 1, 1, 1, 1, 1, 1, 1, 1, 1, 1, 1, 1, 1, 2, 2, 1, 1, 1, 1, 1, 1, 1, 1, 1, 1, 1, 1, 1, 1, 1, 1, 1, 1, 1, 1, 1, 1, 1, 1, 1, 1, 1, 1, 1, 1, 1, 1, 1, 1, 1, 1, 1, 1, 1, 1, 1, 1, 1, 1, 1, 1, 1, 1, 1, 1, 1, 1, 1, 1, 1, 1, 1, 1, 1, 1, 1, 1, 1, 2, 1, 1, 1, 1, 1, 1, 1, 1, 1, 1, 1, 1, 1, 1, 1, 1, 1, 1, 1, 1, 1, 2, 1, 2, 2, 1, 1, 1, 1, 1, 1, 1, 1, 1, 2, 1, 1, 1, 1, 1, 1, 1, 1, 1, 1, 1, 1, 1, 1, 1, 1, 1, 1, 1, 1, 1, 1, 1, 1, 1, 1, 1, 1, 1, 1, 1, 1, 1, 1, 1, 1, 1, 1, 1, 1, 1, 1, 1, 1, 1, 1, 1, 1, 1, 1, 1, 1, 1, 1, 1, 1, 1, 1, 1, 1, 1, 1, 1, 1, 1, 1, 1, 1, 1, 1, 1, 1, 1, 1, 1, 1, 1, 1, 1, 1, 1, 1, 1, 1, 1, 1, 1, 1, 1, 1, 1, 1, 1, 1, 1, 2, 1, 1, 1, 1, 1, 1, 1, 1, 1, 1, 1, 1, 1, 1, 1, 1, 1, 1, 1, 1, 1, 1, 1, 1, 1, 1, 1, 1, 1, 1, 1, 1, 1, 1, 1, 1, 1, 1, 1, 1, 1, 1, 1, 1, 1, 1, 1, 1, 1, 1, 1, 1, 1, 1, 1, 1, 1, 1, 1, 1, 1, 1, 1, 1, 1, 1, 1, 1, 1, 1, 1, 1, 1, 1, 1, 1, 1, 1, 1, 1, 1, 1, 1, 1, 1, 1, 1, 1, 1, 1, 1, 1, 1, 1, 1, 1, 1, 1, 1, 1, 1, 1, 1, 1, 1, 1, 1, 1, 1, 1, 1, 1, 1, 2, 1, 1, 1, 1, 1, 1, 1, 1, 1, 1, 1, 1, 1, 1, 1, 1, 1, 1, 1, 1, 1, 1, 1, 1, 1, 1, 1, 1, 1, 1, 1, 1, 1, 1, 1, 1, 1, 1, 1, 1, 1, 1, 1, 1, 1, 1, 1, 1, 1, 1, 1, 1, 1, 1, 1, 1, 1, 1, 1, 1, 1, 1, 1, 1, 1, 1, 1, 1, 1, 1, 1, 1, 1, 1, 1, 1, 1, 1, 1, 1, 1, 2, 1, 1, 1, 1, 1, 1, 1, 1, 1, 1, 1, 1, 1, 1, 1, 1, 1, 1, 1, 1, 1, 1, 1, 1, 1, 1, 1, 1, 1, 1, 1, 1, 1, 1, 1, 1, 1, 1, 1, 1, 1, 1, 1, 1, 1, 1, 1, 1, 1, 1, 1, 1, 1, 1, 1, 1, 1, 1, 1, 1, 1, 1, 1, 1, 1, 2, 1, 1, 1, 1, 1, 1, 1, 1, 1, 1, 1, 1, 1, 1, 1, 1, 1, 1, 1, 1, 1, 1, 1, 1, 1, 1, 1, 1, 1, 1, 2, 1, 1, 1, 1, 1, 1, 1, 1, 1, 1, 1, 1, 1, 1, 1, 1, 1, 1, 1, 1, 1, 1, 1, 1, 1, 1, 1, 1, 1, 1, 1, 1, 1, 1, 1, 1, 1, 1, 1, 1, 1, 1, 1, 1, 1, 1, 1, 1, 1, 1, 1, 1, 1, 1, 1, 1, 1, 1, 1, 1, 1, 1, 1, 1, 1, 1, 1, 1, 1, 1, 1, 1, 1, 1, 1, 1, 1, 1, 1, 1, 1, 1, 1, 1, 1, 1, 1, 1, 1, 1, 1, 1, 1, 1, 1, 1, 1, 1, 1, 1, 1, 1, 1, 1, 1, 1, 1, 1, 1, 1, 1, 1, 1, 1, 1, 1, 1, 1, 1, 1, 2, 1, 1, 1, 1, 1, 1, 1, 1, 1, 1, 1, 1, 1, 1, 1, 1, 1, 1, 1, 1, 1, 1, 1, 1, 1, 1, 1, 1, 1, 1, 1, 1, 1, 1, 1, 1, 1, 1, 1, 1, 1, 1])"
      ]
     },
     "execution_count": 96,
     "metadata": {},
     "output_type": "execute_result"
    }
   ],
   "source": [
    "freqs.values()"
   ]
  },
  {
   "cell_type": "code",
   "execution_count": 103,
   "metadata": {},
   "outputs": [],
   "source": [
    "test = pd.DataFrame([[pair[0], pair[1], value] for pair, value in zip(freqs.keys(), freqs.values())])"
   ]
  },
  {
   "cell_type": "code",
   "execution_count": 104,
   "metadata": {},
   "outputs": [
    {
     "data": {
      "text/html": [
       "<div>\n",
       "<style scoped>\n",
       "    .dataframe tbody tr th:only-of-type {\n",
       "        vertical-align: middle;\n",
       "    }\n",
       "\n",
       "    .dataframe tbody tr th {\n",
       "        vertical-align: top;\n",
       "    }\n",
       "\n",
       "    .dataframe thead th {\n",
       "        text-align: right;\n",
       "    }\n",
       "</style>\n",
       "<table border=\"1\" class=\"dataframe\">\n",
       "  <thead>\n",
       "    <tr style=\"text-align: right;\">\n",
       "      <th></th>\n",
       "      <th>0</th>\n",
       "      <th>1</th>\n",
       "      <th>2</th>\n",
       "    </tr>\n",
       "  </thead>\n",
       "  <tbody>\n",
       "    <tr>\n",
       "      <td>0</td>\n",
       "      <td>bbc</td>\n",
       "      <td>0</td>\n",
       "      <td>11</td>\n",
       "    </tr>\n",
       "    <tr>\n",
       "      <td>1</td>\n",
       "      <td>news</td>\n",
       "      <td>0</td>\n",
       "      <td>109</td>\n",
       "    </tr>\n",
       "    <tr>\n",
       "      <td>2</td>\n",
       "      <td>russia</td>\n",
       "      <td>0</td>\n",
       "      <td>8</td>\n",
       "    </tr>\n",
       "    <tr>\n",
       "      <td>3</td>\n",
       "      <td>lake</td>\n",
       "      <td>0</td>\n",
       "      <td>15</td>\n",
       "    </tr>\n",
       "    <tr>\n",
       "      <td>4</td>\n",
       "      <td>syamozero</td>\n",
       "      <td>0</td>\n",
       "      <td>2</td>\n",
       "    </tr>\n",
       "  </tbody>\n",
       "</table>\n",
       "</div>"
      ],
      "text/plain": [
       "           0  1    2\n",
       "0        bbc  0   11\n",
       "1       news  0  109\n",
       "2     russia  0    8\n",
       "3       lake  0   15\n",
       "4  syamozero  0    2"
      ]
     },
     "execution_count": 104,
     "metadata": {},
     "output_type": "execute_result"
    }
   ],
   "source": [
    "test.head()"
   ]
  }
 ],
 "metadata": {
  "kernelspec": {
   "display_name": "Python 3",
   "language": "python",
   "name": "python3"
  },
  "language_info": {
   "codemirror_mode": {
    "name": "ipython",
    "version": 3
   },
   "file_extension": ".py",
   "mimetype": "text/x-python",
   "name": "python",
   "nbconvert_exporter": "python",
   "pygments_lexer": "ipython3",
   "version": "3.7.4"
  }
 },
 "nbformat": 4,
 "nbformat_minor": 2
}
